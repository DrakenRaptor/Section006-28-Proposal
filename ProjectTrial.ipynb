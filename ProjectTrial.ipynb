{
 "cells": [
  {
   "cell_type": "code",
   "execution_count": 1,
   "id": "32dc24b4-c6d1-4ad2-8a04-fe4c729141b8",
   "metadata": {},
   "outputs": [
    {
     "name": "stderr",
     "output_type": "stream",
     "text": [
      "── \u001b[1mAttaching packages\u001b[22m ─────────────────────────────────────── tidyverse 1.3.1 ──\n",
      "\n",
      "\u001b[32m✔\u001b[39m \u001b[34mggplot2\u001b[39m 3.3.6     \u001b[32m✔\u001b[39m \u001b[34mpurrr  \u001b[39m 0.3.4\n",
      "\u001b[32m✔\u001b[39m \u001b[34mtibble \u001b[39m 3.1.7     \u001b[32m✔\u001b[39m \u001b[34mdplyr  \u001b[39m 1.0.9\n",
      "\u001b[32m✔\u001b[39m \u001b[34mtidyr  \u001b[39m 1.2.0     \u001b[32m✔\u001b[39m \u001b[34mstringr\u001b[39m 1.4.0\n",
      "\u001b[32m✔\u001b[39m \u001b[34mreadr  \u001b[39m 2.1.2     \u001b[32m✔\u001b[39m \u001b[34mforcats\u001b[39m 0.5.1\n",
      "\n",
      "── \u001b[1mConflicts\u001b[22m ────────────────────────────────────────── tidyverse_conflicts() ──\n",
      "\u001b[31m✖\u001b[39m \u001b[34mdplyr\u001b[39m::\u001b[32mfilter()\u001b[39m masks \u001b[34mstats\u001b[39m::filter()\n",
      "\u001b[31m✖\u001b[39m \u001b[34mdplyr\u001b[39m::\u001b[32mlag()\u001b[39m    masks \u001b[34mstats\u001b[39m::lag()\n",
      "\n"
     ]
    }
   ],
   "source": [
    "### Loading of base packages manually \n",
    "\n",
    "library(datasets)   # loading of library datasets\n",
    "library(tidyverse)  # loading of tidyverse library\n",
    "library(ggplot2) \n",
    "library(dplyr)\n",
    "library(tibble)\n",
    "library(httr)\n",
    "options(repr.matrix.max.rows = 6)\n",
    "# source('tests.R')"
   ]
  },
  {
   "cell_type": "code",
   "execution_count": 2,
   "id": "809f4fb4-2ec2-4f90-9899-3a6403c10daa",
   "metadata": {},
   "outputs": [
    {
     "name": "stderr",
     "output_type": "stream",
     "text": [
      "Warning message:\n",
      "“One or more parsing issues, see `problems()` for details”\n",
      "\u001b[1mRows: \u001b[22m\u001b[34m2542\u001b[39m \u001b[1mColumns: \u001b[22m\u001b[34m1\u001b[39m\n",
      "\u001b[36m──\u001b[39m \u001b[1mColumn specification\u001b[22m \u001b[36m────────────────────────────────────────────────────────\u001b[39m\n",
      "\u001b[1mDelimiter:\u001b[22m \",\"\n",
      "\u001b[31mchr\u001b[39m (1): <!DOCTYPE html>\n",
      "\n",
      "\u001b[36mℹ\u001b[39m Use `spec()` to retrieve the full column specification for this data.\n",
      "\u001b[36mℹ\u001b[39m Specify the column types or set `show_col_types = FALSE` to quiet this message.\n"
     ]
    },
    {
     "ename": "ERROR",
     "evalue": "Error in html_table(html_nodes(page, \"table\")[1]): could not find function \"html_table\"\n",
     "output_type": "error",
     "traceback": [
      "Error in html_table(html_nodes(page, \"table\")[1]): could not find function \"html_table\"\nTraceback:\n"
     ]
    }
   ],
   "source": [
    "# URL of the team statistics page for the 2021-2022 NBA season\n",
    "url <- \"https://www.basketball-reference.com/leagues/NBA_2023_per_game.html\"\n",
    "\n",
    "# Load the HTML content from the URL\n",
    "# page <- read_html(url)\n",
    "\n",
    "page <- read_csv(\"https://www.basketball-reference.com/leagues/NBA_2023_totals.html#totals_stats\")\n",
    "\n",
    "table <- html_table(html_nodes(page, \"table\")[1])\n",
    "table"
   ]
  },
  {
   "cell_type": "code",
   "execution_count": null,
   "id": "f754d28c-ca7d-4eb2-83a4-01ff694e5cc6",
   "metadata": {},
   "outputs": [],
   "source": [
    "new_table <- table |> \n",
    "    as.numeric(Rk)\n",
    "    # mutate(Rk = as.numeric(Rk))\n",
    "\n",
    "new_table\n",
    "\n",
    "# datafile <- iris\n",
    "# head(datafile)   # read datafile from iris"
   ]
  },
  {
   "cell_type": "code",
   "execution_count": null,
   "id": "e53a0cff-79dc-43c4-84db-1772ff38c06e",
   "metadata": {},
   "outputs": [],
   "source": [
    "hist(datafile$Sepal.Width, \n",
    "    main = \"Sepal Width Histogram\",\n",
    "    col = \"#CD0001\",\n",
    "    border = NA,\n",
    "    xlab = \"Sepal Width (in cm)\")\n",
    "    "
   ]
  },
  {
   "cell_type": "markdown",
   "id": "eb59d1b6-88dd-4ca1-b3ec-227bafde692f",
   "metadata": {},
   "source": [
    "The command below will load and install the pacman packages if it's..."
   ]
  },
  {
   "cell_type": "code",
   "execution_count": null,
   "id": "c232198f-47c9-4dc7-be90-0dd68c488ac7",
   "metadata": {},
   "outputs": [],
   "source": [
    "# if (!require(\"pacman\")) install.packages(\"pacman\")"
   ]
  },
  {
   "cell_type": "code",
   "execution_count": null,
   "id": "75ab30bd-1f06-4fea-9f2e-e2a170804169",
   "metadata": {},
   "outputs": [],
   "source": [
    "# pairs(iris[1:4], main=\"Iris Data (red=setosa,green=versicolor,blue=virginica)\",\n",
    "#       pch=21, bg=c(\"red\",\"green3\",\"blue\")[unclass(iris$Species)])"
   ]
  },
  {
   "cell_type": "markdown",
   "id": "1c19282d-92b4-426b-8bf5-e2c96c9e18df",
   "metadata": {},
   "source": [
    "Determine the species with the petal length of the sepal... using a multivariable \n",
    "We wish to create a model which is able to classify the different types of Iris flower."
   ]
  },
  {
   "cell_type": "markdown",
   "id": "2dd22008-1f34-41dc-84d1-23af4ebbcd34",
   "metadata": {},
   "source": [
    "Our research question is to ..."
   ]
  },
  {
   "cell_type": "code",
   "execution_count": null,
   "id": "967f440e-00c0-4d5d-88c2-ea3ca1cd081e",
   "metadata": {},
   "outputs": [],
   "source": [
    "ggplot(iris, aes(Sepal.Length, Petal.Length, color = Species)) +\n",
    "        geom_point()"
   ]
  },
  {
   "cell_type": "markdown",
   "id": "e846a557-25b8-4c32-a7a8-2bb4fa21ed65",
   "metadata": {},
   "source": [
    "The scatterplot as shown above shows the relationship between sepal length and petal length which is distinguished through its species Iris."
   ]
  },
  {
   "cell_type": "markdown",
   "id": "c14da89b-0210-4f2b-be01-b3316f4c4008",
   "metadata": {},
   "source": [
    "Test..."
   ]
  },
  {
   "cell_type": "markdown",
   "id": "01faff6e-bee5-4e45-a58e-40f64552aa00",
   "metadata": {},
   "source": [
    "e.g."
   ]
  },
  {
   "cell_type": "code",
   "execution_count": null,
   "id": "cf1a8faa-69f4-4df7-b000-959f439aa49e",
   "metadata": {},
   "outputs": [],
   "source": []
  }
 ],
 "metadata": {
  "kernelspec": {
   "display_name": "R",
   "language": "R",
   "name": "ir"
  },
  "language_info": {
   "codemirror_mode": "r",
   "file_extension": ".r",
   "mimetype": "text/x-r-source",
   "name": "R",
   "pygments_lexer": "r",
   "version": "4.1.3"
  }
 },
 "nbformat": 4,
 "nbformat_minor": 5
}
