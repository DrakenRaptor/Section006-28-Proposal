{
 "cells": [
  {
   "cell_type": "markdown",
   "id": "105f8161-6c3f-4757-b9aa-92247ae4ae9f",
   "metadata": {},
   "source": [
    "## Group Proposal"
   ]
  },
  {
   "cell_type": "markdown",
   "id": "148d65d0-43cc-459e-a7c1-4367a31b997c",
   "metadata": {},
   "source": [
    "**Predicting whether an NBA player will make it to the All-Star team based on their performance statistics in the 2023 season using the 2021-2022 seasons.**\n"
   ]
  },
  {
   "cell_type": "markdown",
   "id": "a5b9eb61-0541-4c5b-b8f8-13a27dfd3b87",
   "metadata": {},
   "source": [
    "For our group proposal, we want to predict which NBA players will make it to the All-Star selections based on their performance. The NBA (National Basketball Association) is a professional basketball league in North America that features 30 teams. Each team consists of players who compete against each other in regular season games, with the goal of making it to the playoffs and eventually winning the NBA championship.\n",
    "\n",
    "The NBA All-Star Game is an annual exhibition game that features the best players from each conference. The players are selected based on a combination of fan, player, and media voting. Being selected to the All-Star team is a significant accomplishment for NBA players and is often seen as a sign of their individual success and impact on the league.\n",
    "\n",
    "The NBA tracks various performance statistics for each player, including points per game, rebounds per game, assists per game, field goal percentage, and many others. These statistics are used to evaluate a player's performance and value to their team.\n",
    "\n",
    "In recent years, there has been an increasing interest in using machine learning and data analysis techniques to predict various outcomes in sports, including player performance, team success, and player awards such as All-Star selections. The NBA 2021-2022 per-game statistics dataset provides a rich source of data that can be used to build predictive models for various outcomes, including predicting whether a player will make it to the All-Star team in the 2023 season. \n"
   ]
  },
  {
   "cell_type": "code",
   "execution_count": 1,
   "id": "32dc24b4-c6d1-4ad2-8a04-fe4c729141b8",
   "metadata": {},
   "outputs": [
    {
     "name": "stderr",
     "output_type": "stream",
     "text": [
      "── \u001b[1mAttaching packages\u001b[22m ─────────────────────────────────────── tidyverse 1.3.1 ──\n",
      "\n",
      "\u001b[32m✔\u001b[39m \u001b[34mggplot2\u001b[39m 3.3.6     \u001b[32m✔\u001b[39m \u001b[34mpurrr  \u001b[39m 0.3.4\n",
      "\u001b[32m✔\u001b[39m \u001b[34mtibble \u001b[39m 3.1.7     \u001b[32m✔\u001b[39m \u001b[34mdplyr  \u001b[39m 1.0.9\n",
      "\u001b[32m✔\u001b[39m \u001b[34mtidyr  \u001b[39m 1.2.0     \u001b[32m✔\u001b[39m \u001b[34mstringr\u001b[39m 1.4.0\n",
      "\u001b[32m✔\u001b[39m \u001b[34mreadr  \u001b[39m 2.1.2     \u001b[32m✔\u001b[39m \u001b[34mforcats\u001b[39m 0.5.1\n",
      "\n",
      "── \u001b[1mConflicts\u001b[22m ────────────────────────────────────────── tidyverse_conflicts() ──\n",
      "\u001b[31m✖\u001b[39m \u001b[34mdplyr\u001b[39m::\u001b[32mfilter()\u001b[39m masks \u001b[34mstats\u001b[39m::filter()\n",
      "\u001b[31m✖\u001b[39m \u001b[34mdplyr\u001b[39m::\u001b[32mlag()\u001b[39m    masks \u001b[34mstats\u001b[39m::lag()\n",
      "\n",
      "── \u001b[1mAttaching packages\u001b[22m ────────────────────────────────────── tidymodels 1.0.0 ──\n",
      "\n",
      "\u001b[32m✔\u001b[39m \u001b[34mbroom       \u001b[39m 1.0.0     \u001b[32m✔\u001b[39m \u001b[34mrsample     \u001b[39m 1.0.0\n",
      "\u001b[32m✔\u001b[39m \u001b[34mdials       \u001b[39m 1.0.0     \u001b[32m✔\u001b[39m \u001b[34mtune        \u001b[39m 1.0.0\n",
      "\u001b[32m✔\u001b[39m \u001b[34minfer       \u001b[39m 1.0.2     \u001b[32m✔\u001b[39m \u001b[34mworkflows   \u001b[39m 1.0.0\n",
      "\u001b[32m✔\u001b[39m \u001b[34mmodeldata   \u001b[39m 1.0.0     \u001b[32m✔\u001b[39m \u001b[34mworkflowsets\u001b[39m 1.0.0\n",
      "\u001b[32m✔\u001b[39m \u001b[34mparsnip     \u001b[39m 1.0.0     \u001b[32m✔\u001b[39m \u001b[34myardstick   \u001b[39m 1.0.0\n",
      "\u001b[32m✔\u001b[39m \u001b[34mrecipes     \u001b[39m 1.0.1     \n",
      "\n",
      "── \u001b[1mConflicts\u001b[22m ───────────────────────────────────────── tidymodels_conflicts() ──\n",
      "\u001b[31m✖\u001b[39m \u001b[34mscales\u001b[39m::\u001b[32mdiscard()\u001b[39m masks \u001b[34mpurrr\u001b[39m::discard()\n",
      "\u001b[31m✖\u001b[39m \u001b[34mdplyr\u001b[39m::\u001b[32mfilter()\u001b[39m   masks \u001b[34mstats\u001b[39m::filter()\n",
      "\u001b[31m✖\u001b[39m \u001b[34mrecipes\u001b[39m::\u001b[32mfixed()\u001b[39m  masks \u001b[34mstringr\u001b[39m::fixed()\n",
      "\u001b[31m✖\u001b[39m \u001b[34mdplyr\u001b[39m::\u001b[32mlag()\u001b[39m      masks \u001b[34mstats\u001b[39m::lag()\n",
      "\u001b[31m✖\u001b[39m \u001b[34myardstick\u001b[39m::\u001b[32mspec()\u001b[39m masks \u001b[34mreadr\u001b[39m::spec()\n",
      "\u001b[31m✖\u001b[39m \u001b[34mrecipes\u001b[39m::\u001b[32mstep()\u001b[39m   masks \u001b[34mstats\u001b[39m::step()\n",
      "\u001b[34m•\u001b[39m Use \u001b[32mtidymodels_prefer()\u001b[39m to resolve common conflicts.\n",
      "\n"
     ]
    }
   ],
   "source": [
    "### Loading of base packages manually \n",
    "\n",
    "library(datasets)   # loading of library datasets\n",
    "library(tidyverse)  # loading of tidyverse library\n",
    "library(tidymodels)\n",
    "library(tibble)\n",
    "library(httr)\n",
    "options(repr.matrix.max.rows = 6)\n",
    "# source('tests.R')"
   ]
  },
  {
   "cell_type": "code",
   "execution_count": 2,
   "id": "809f4fb4-2ec2-4f90-9899-3a6403c10daa",
   "metadata": {},
   "outputs": [
    {
     "name": "stderr",
     "output_type": "stream",
     "text": [
      "\u001b[1mRows: \u001b[22m\u001b[34m644\u001b[39m \u001b[1mColumns: \u001b[22m\u001b[34m31\u001b[39m\n",
      "\u001b[36m──\u001b[39m \u001b[1mColumn specification\u001b[22m \u001b[36m────────────────────────────────────────────────────────\u001b[39m\n",
      "\u001b[1mDelimiter:\u001b[22m \",\"\n",
      "\u001b[31mchr\u001b[39m  (4): Player, Pos, Tm, Player-additional\\\n",
      "\u001b[32mdbl\u001b[39m (27): Rk, Age, G, GS, MP, FG, FGA, FG%, 3P, 3PA, 3P%, 2P, 2PA, 2P%, eFG%...\n",
      "\n",
      "\u001b[36mℹ\u001b[39m Use `spec()` to retrieve the full column specification for this data.\n",
      "\u001b[36mℹ\u001b[39m Specify the column types or set `show_col_types = FALSE` to quiet this message.\n"
     ]
    },
    {
     "data": {
      "text/html": [
       "<table class=\"dataframe\">\n",
       "<caption>A spec_tbl_df: 644 × 31</caption>\n",
       "<thead>\n",
       "\t<tr><th scope=col>Rk</th><th scope=col>Player</th><th scope=col>Pos</th><th scope=col>Age</th><th scope=col>Tm</th><th scope=col>G</th><th scope=col>GS</th><th scope=col>MP</th><th scope=col>FG</th><th scope=col>FGA</th><th scope=col>⋯</th><th scope=col>ORB</th><th scope=col>DRB</th><th scope=col>TRB</th><th scope=col>AST</th><th scope=col>STL</th><th scope=col>BLK</th><th scope=col>TOV</th><th scope=col>PF</th><th scope=col>PTS</th><th scope=col>Player-additional\\</th></tr>\n",
       "\t<tr><th scope=col>&lt;dbl&gt;</th><th scope=col>&lt;chr&gt;</th><th scope=col>&lt;chr&gt;</th><th scope=col>&lt;dbl&gt;</th><th scope=col>&lt;chr&gt;</th><th scope=col>&lt;dbl&gt;</th><th scope=col>&lt;dbl&gt;</th><th scope=col>&lt;dbl&gt;</th><th scope=col>&lt;dbl&gt;</th><th scope=col>&lt;dbl&gt;</th><th scope=col>⋯</th><th scope=col>&lt;dbl&gt;</th><th scope=col>&lt;dbl&gt;</th><th scope=col>&lt;dbl&gt;</th><th scope=col>&lt;dbl&gt;</th><th scope=col>&lt;dbl&gt;</th><th scope=col>&lt;dbl&gt;</th><th scope=col>&lt;dbl&gt;</th><th scope=col>&lt;dbl&gt;</th><th scope=col>&lt;dbl&gt;</th><th scope=col>&lt;chr&gt;</th></tr>\n",
       "</thead>\n",
       "<tbody>\n",
       "\t<tr><td>1</td><td>Precious Achiuwa</td><td>C</td><td>23</td><td>TOR</td><td>42</td><td>11</td><td> 947</td><td>156</td><td>325</td><td>⋯</td><td> 81</td><td>184</td><td>265</td><td> 42</td><td>26</td><td>26</td><td> 49</td><td> 85</td><td> 408</td><td>achiupr01\\</td></tr>\n",
       "\t<tr><td>2</td><td>Steven Adams    </td><td>C</td><td>29</td><td>MEM</td><td>42</td><td>42</td><td>1133</td><td>157</td><td>263</td><td>⋯</td><td>214</td><td>271</td><td>485</td><td> 97</td><td>36</td><td>46</td><td> 79</td><td> 98</td><td> 361</td><td>adamsst01\\</td></tr>\n",
       "\t<tr><td>3</td><td>Bam Adebayo     </td><td>C</td><td>25</td><td>MIA</td><td>61</td><td>61</td><td>2137</td><td>509</td><td>943</td><td>⋯</td><td>154</td><td>434</td><td>588</td><td>200</td><td>75</td><td>50</td><td>153</td><td>172</td><td>1295</td><td>adebaba01\\</td></tr>\n",
       "\t<tr><td>⋮</td><td>⋮</td><td>⋮</td><td>⋮</td><td>⋮</td><td>⋮</td><td>⋮</td><td>⋮</td><td>⋮</td><td>⋮</td><td>⋱</td><td>⋮</td><td>⋮</td><td>⋮</td><td>⋮</td><td>⋮</td><td>⋮</td><td>⋮</td><td>⋮</td><td>⋮</td><td>⋮</td></tr>\n",
       "\t<tr><td>514</td><td>Trae Young </td><td>PG</td><td>24</td><td>ATL</td><td>58</td><td>58</td><td>2037</td><td>486</td><td>1137</td><td>⋯</td><td> 44</td><td>129</td><td>173</td><td>585</td><td>65</td><td> 9</td><td>237</td><td> 86</td><td>1545</td><td>youngtr01\\</td></tr>\n",
       "\t<tr><td>515</td><td>Cody Zeller</td><td>C </td><td>30</td><td>MIA</td><td> 7</td><td> 0</td><td>  96</td><td> 14</td><td>  22</td><td>⋯</td><td> 11</td><td>  8</td><td> 19</td><td>  5</td><td> 1</td><td> 3</td><td>  5</td><td> 17</td><td>  42</td><td>zelleco01\\</td></tr>\n",
       "\t<tr><td>516</td><td>Ivica Zubac</td><td>C </td><td>25</td><td>LAC</td><td>61</td><td>61</td><td>1780</td><td>245</td><td> 396</td><td>⋯</td><td>203</td><td>413</td><td>616</td><td> 65</td><td>24</td><td>81</td><td>104</td><td>179</td><td> 620</td><td>zubaciv01} </td></tr>\n",
       "</tbody>\n",
       "</table>\n"
      ],
      "text/latex": [
       "A spec\\_tbl\\_df: 644 × 31\n",
       "\\begin{tabular}{lllllllllllllllllllll}\n",
       " Rk & Player & Pos & Age & Tm & G & GS & MP & FG & FGA & ⋯ & ORB & DRB & TRB & AST & STL & BLK & TOV & PF & PTS & Player-additional\\textbackslash{}\\\\\n",
       " <dbl> & <chr> & <chr> & <dbl> & <chr> & <dbl> & <dbl> & <dbl> & <dbl> & <dbl> & ⋯ & <dbl> & <dbl> & <dbl> & <dbl> & <dbl> & <dbl> & <dbl> & <dbl> & <dbl> & <chr>\\\\\n",
       "\\hline\n",
       "\t 1 & Precious Achiuwa & C & 23 & TOR & 42 & 11 &  947 & 156 & 325 & ⋯ &  81 & 184 & 265 &  42 & 26 & 26 &  49 &  85 &  408 & achiupr01\\textbackslash{}\\\\\n",
       "\t 2 & Steven Adams     & C & 29 & MEM & 42 & 42 & 1133 & 157 & 263 & ⋯ & 214 & 271 & 485 &  97 & 36 & 46 &  79 &  98 &  361 & adamsst01\\textbackslash{}\\\\\n",
       "\t 3 & Bam Adebayo      & C & 25 & MIA & 61 & 61 & 2137 & 509 & 943 & ⋯ & 154 & 434 & 588 & 200 & 75 & 50 & 153 & 172 & 1295 & adebaba01\\textbackslash{}\\\\\n",
       "\t ⋮ & ⋮ & ⋮ & ⋮ & ⋮ & ⋮ & ⋮ & ⋮ & ⋮ & ⋮ & ⋱ & ⋮ & ⋮ & ⋮ & ⋮ & ⋮ & ⋮ & ⋮ & ⋮ & ⋮ & ⋮\\\\\n",
       "\t 514 & Trae Young  & PG & 24 & ATL & 58 & 58 & 2037 & 486 & 1137 & ⋯ &  44 & 129 & 173 & 585 & 65 &  9 & 237 &  86 & 1545 & youngtr01\\textbackslash{}\\\\\n",
       "\t 515 & Cody Zeller & C  & 30 & MIA &  7 &  0 &   96 &  14 &   22 & ⋯ &  11 &   8 &  19 &   5 &  1 &  3 &   5 &  17 &   42 & zelleco01\\textbackslash{}\\\\\n",
       "\t 516 & Ivica Zubac & C  & 25 & LAC & 61 & 61 & 1780 & 245 &  396 & ⋯ & 203 & 413 & 616 &  65 & 24 & 81 & 104 & 179 &  620 & zubaciv01\\} \\\\\n",
       "\\end{tabular}\n"
      ],
      "text/markdown": [
       "\n",
       "A spec_tbl_df: 644 × 31\n",
       "\n",
       "| Rk &lt;dbl&gt; | Player &lt;chr&gt; | Pos &lt;chr&gt; | Age &lt;dbl&gt; | Tm &lt;chr&gt; | G &lt;dbl&gt; | GS &lt;dbl&gt; | MP &lt;dbl&gt; | FG &lt;dbl&gt; | FGA &lt;dbl&gt; | ⋯ ⋯ | ORB &lt;dbl&gt; | DRB &lt;dbl&gt; | TRB &lt;dbl&gt; | AST &lt;dbl&gt; | STL &lt;dbl&gt; | BLK &lt;dbl&gt; | TOV &lt;dbl&gt; | PF &lt;dbl&gt; | PTS &lt;dbl&gt; | Player-additional\\ &lt;chr&gt; |\n",
       "|---|---|---|---|---|---|---|---|---|---|---|---|---|---|---|---|---|---|---|---|---|\n",
       "| 1 | Precious Achiuwa | C | 23 | TOR | 42 | 11 |  947 | 156 | 325 | ⋯ |  81 | 184 | 265 |  42 | 26 | 26 |  49 |  85 |  408 | achiupr01\\ |\n",
       "| 2 | Steven Adams     | C | 29 | MEM | 42 | 42 | 1133 | 157 | 263 | ⋯ | 214 | 271 | 485 |  97 | 36 | 46 |  79 |  98 |  361 | adamsst01\\ |\n",
       "| 3 | Bam Adebayo      | C | 25 | MIA | 61 | 61 | 2137 | 509 | 943 | ⋯ | 154 | 434 | 588 | 200 | 75 | 50 | 153 | 172 | 1295 | adebaba01\\ |\n",
       "| ⋮ | ⋮ | ⋮ | ⋮ | ⋮ | ⋮ | ⋮ | ⋮ | ⋮ | ⋮ | ⋱ | ⋮ | ⋮ | ⋮ | ⋮ | ⋮ | ⋮ | ⋮ | ⋮ | ⋮ | ⋮ |\n",
       "| 514 | Trae Young  | PG | 24 | ATL | 58 | 58 | 2037 | 486 | 1137 | ⋯ |  44 | 129 | 173 | 585 | 65 |  9 | 237 |  86 | 1545 | youngtr01\\ |\n",
       "| 515 | Cody Zeller | C  | 30 | MIA |  7 |  0 |   96 |  14 |   22 | ⋯ |  11 |   8 |  19 |   5 |  1 |  3 |   5 |  17 |   42 | zelleco01\\ |\n",
       "| 516 | Ivica Zubac | C  | 25 | LAC | 61 | 61 | 1780 | 245 |  396 | ⋯ | 203 | 413 | 616 |  65 | 24 | 81 | 104 | 179 |  620 | zubaciv01}  |\n",
       "\n"
      ],
      "text/plain": [
       "    Rk  Player           Pos Age Tm  G  GS MP   FG  FGA  ⋯ ORB DRB TRB AST STL\n",
       "1   1   Precious Achiuwa C   23  TOR 42 11  947 156 325  ⋯  81 184 265  42 26 \n",
       "2   2   Steven Adams     C   29  MEM 42 42 1133 157 263  ⋯ 214 271 485  97 36 \n",
       "3   3   Bam Adebayo      C   25  MIA 61 61 2137 509 943  ⋯ 154 434 588 200 75 \n",
       "⋮   ⋮   ⋮                ⋮   ⋮   ⋮   ⋮  ⋮  ⋮    ⋮   ⋮    ⋱ ⋮   ⋮   ⋮   ⋮   ⋮  \n",
       "642 514 Trae Young       PG  24  ATL 58 58 2037 486 1137 ⋯  44 129 173 585 65 \n",
       "643 515 Cody Zeller      C   30  MIA  7  0   96  14   22 ⋯  11   8  19   5  1 \n",
       "644 516 Ivica Zubac      C   25  LAC 61 61 1780 245  396 ⋯ 203 413 616  65 24 \n",
       "    BLK TOV PF  PTS  Player-additional\\\\\n",
       "1   26   49  85  408 achiupr01\\\\        \n",
       "2   46   79  98  361 adamsst01\\\\        \n",
       "3   50  153 172 1295 adebaba01\\\\        \n",
       "⋮   ⋮   ⋮   ⋮   ⋮    ⋮                  \n",
       "642  9  237  86 1545 youngtr01\\\\        \n",
       "643  3    5  17   42 zelleco01\\\\        \n",
       "644 81  104 179  620 zubaciv01}         "
      ]
     },
     "metadata": {},
     "output_type": "display_data"
    },
    {
     "name": "stderr",
     "output_type": "stream",
     "text": [
      "\u001b[1mRows: \u001b[22m\u001b[34m813\u001b[39m \u001b[1mColumns: \u001b[22m\u001b[34m31\u001b[39m\n",
      "\u001b[36m──\u001b[39m \u001b[1mColumn specification\u001b[22m \u001b[36m────────────────────────────────────────────────────────\u001b[39m\n",
      "\u001b[1mDelimiter:\u001b[22m \",\"\n",
      "\u001b[31mchr\u001b[39m  (5): Sn, Player, Pos, Tm, Player-additional\\\n",
      "\u001b[32mdbl\u001b[39m (26): Age, G, GS, MP, FG, FGA, FG%, 3P, 3PA, 3P%, 2P, 2PA, 2P%, eFG%, FT...\n",
      "\n",
      "\u001b[36mℹ\u001b[39m Use `spec()` to retrieve the full column specification for this data.\n",
      "\u001b[36mℹ\u001b[39m Specify the column types or set `show_col_types = FALSE` to quiet this message.\n"
     ]
    },
    {
     "data": {
      "text/html": [
       "<table class=\"dataframe\">\n",
       "<caption>A spec_tbl_df: 813 × 31</caption>\n",
       "<thead>\n",
       "\t<tr><th scope=col>Sn</th><th scope=col>Player</th><th scope=col>Pos</th><th scope=col>Age</th><th scope=col>Tm</th><th scope=col>G</th><th scope=col>GS</th><th scope=col>MP</th><th scope=col>FG</th><th scope=col>FGA</th><th scope=col>⋯</th><th scope=col>ORB</th><th scope=col>DRB</th><th scope=col>TRB</th><th scope=col>AST</th><th scope=col>STL</th><th scope=col>BLK</th><th scope=col>TOV</th><th scope=col>PF</th><th scope=col>PTS</th><th scope=col>Player-additional\\</th></tr>\n",
       "\t<tr><th scope=col>&lt;chr&gt;</th><th scope=col>&lt;chr&gt;</th><th scope=col>&lt;chr&gt;</th><th scope=col>&lt;dbl&gt;</th><th scope=col>&lt;chr&gt;</th><th scope=col>&lt;dbl&gt;</th><th scope=col>&lt;dbl&gt;</th><th scope=col>&lt;dbl&gt;</th><th scope=col>&lt;dbl&gt;</th><th scope=col>&lt;dbl&gt;</th><th scope=col>⋯</th><th scope=col>&lt;dbl&gt;</th><th scope=col>&lt;dbl&gt;</th><th scope=col>&lt;dbl&gt;</th><th scope=col>&lt;dbl&gt;</th><th scope=col>&lt;dbl&gt;</th><th scope=col>&lt;dbl&gt;</th><th scope=col>&lt;dbl&gt;</th><th scope=col>&lt;dbl&gt;</th><th scope=col>&lt;dbl&gt;</th><th scope=col>&lt;chr&gt;</th></tr>\n",
       "</thead>\n",
       "<tbody>\n",
       "\t<tr><td>1</td><td>Precious Achiuwa</td><td>C</td><td>22</td><td>TOR</td><td>73</td><td>28</td><td>1725</td><td>265</td><td>603</td><td>⋯</td><td>146</td><td>327</td><td>473</td><td> 82</td><td>37</td><td>41</td><td> 84</td><td>151</td><td> 664</td><td>achiupr01\\</td></tr>\n",
       "\t<tr><td>2</td><td>Steven Adams    </td><td>C</td><td>28</td><td>MEM</td><td>76</td><td>75</td><td>1999</td><td>210</td><td>384</td><td>⋯</td><td>349</td><td>411</td><td>760</td><td>256</td><td>65</td><td>60</td><td>115</td><td>153</td><td> 528</td><td>adamsst01\\</td></tr>\n",
       "\t<tr><td>3</td><td>Bam Adebayo     </td><td>C</td><td>24</td><td>MIA</td><td>56</td><td>56</td><td>1825</td><td>406</td><td>729</td><td>⋯</td><td>137</td><td>427</td><td>564</td><td>190</td><td>80</td><td>44</td><td>148</td><td>171</td><td>1068</td><td>adebaba01\\</td></tr>\n",
       "\t<tr><td>⋮</td><td>⋮</td><td>⋮</td><td>⋮</td><td>⋮</td><td>⋮</td><td>⋮</td><td>⋮</td><td>⋮</td><td>⋮</td><td>⋱</td><td>⋮</td><td>⋮</td><td>⋮</td><td>⋮</td><td>⋮</td><td>⋮</td><td>⋮</td><td>⋮</td><td>⋮</td><td>⋮</td></tr>\n",
       "\t<tr><td>604</td><td>Cody Zeller</td><td>C </td><td>29</td><td>POR</td><td>27</td><td> 0</td><td> 355</td><td> 51</td><td> 90</td><td>⋯</td><td> 50</td><td> 75</td><td>125</td><td> 22</td><td> 8</td><td> 6</td><td> 19</td><td> 56</td><td>140</td><td>zelleco01\\</td></tr>\n",
       "\t<tr><td>605</td><td>Ivica Zubac</td><td>C </td><td>24</td><td>LAC</td><td>76</td><td>76</td><td>1852</td><td>310</td><td>495</td><td>⋯</td><td>217</td><td>427</td><td>644</td><td>120</td><td>36</td><td>77</td><td>114</td><td>203</td><td>785</td><td>zubaciv01\\</td></tr>\n",
       "\t<tr><td>}  </td><td>NA         </td><td>NA</td><td>NA</td><td>NA </td><td>NA</td><td>NA</td><td>  NA</td><td> NA</td><td> NA</td><td>⋯</td><td> NA</td><td> NA</td><td> NA</td><td> NA</td><td>NA</td><td>NA</td><td> NA</td><td> NA</td><td> NA</td><td>NA         </td></tr>\n",
       "</tbody>\n",
       "</table>\n"
      ],
      "text/latex": [
       "A spec\\_tbl\\_df: 813 × 31\n",
       "\\begin{tabular}{lllllllllllllllllllll}\n",
       " Sn & Player & Pos & Age & Tm & G & GS & MP & FG & FGA & ⋯ & ORB & DRB & TRB & AST & STL & BLK & TOV & PF & PTS & Player-additional\\textbackslash{}\\\\\n",
       " <chr> & <chr> & <chr> & <dbl> & <chr> & <dbl> & <dbl> & <dbl> & <dbl> & <dbl> & ⋯ & <dbl> & <dbl> & <dbl> & <dbl> & <dbl> & <dbl> & <dbl> & <dbl> & <dbl> & <chr>\\\\\n",
       "\\hline\n",
       "\t 1 & Precious Achiuwa & C & 22 & TOR & 73 & 28 & 1725 & 265 & 603 & ⋯ & 146 & 327 & 473 &  82 & 37 & 41 &  84 & 151 &  664 & achiupr01\\textbackslash{}\\\\\n",
       "\t 2 & Steven Adams     & C & 28 & MEM & 76 & 75 & 1999 & 210 & 384 & ⋯ & 349 & 411 & 760 & 256 & 65 & 60 & 115 & 153 &  528 & adamsst01\\textbackslash{}\\\\\n",
       "\t 3 & Bam Adebayo      & C & 24 & MIA & 56 & 56 & 1825 & 406 & 729 & ⋯ & 137 & 427 & 564 & 190 & 80 & 44 & 148 & 171 & 1068 & adebaba01\\textbackslash{}\\\\\n",
       "\t ⋮ & ⋮ & ⋮ & ⋮ & ⋮ & ⋮ & ⋮ & ⋮ & ⋮ & ⋮ & ⋱ & ⋮ & ⋮ & ⋮ & ⋮ & ⋮ & ⋮ & ⋮ & ⋮ & ⋮ & ⋮\\\\\n",
       "\t 604 & Cody Zeller & C  & 29 & POR & 27 &  0 &  355 &  51 &  90 & ⋯ &  50 &  75 & 125 &  22 &  8 &  6 &  19 &  56 & 140 & zelleco01\\textbackslash{}\\\\\n",
       "\t 605 & Ivica Zubac & C  & 24 & LAC & 76 & 76 & 1852 & 310 & 495 & ⋯ & 217 & 427 & 644 & 120 & 36 & 77 & 114 & 203 & 785 & zubaciv01\\textbackslash{}\\\\\n",
       "\t \\}   & NA          & NA & NA & NA  & NA & NA &   NA &  NA &  NA & ⋯ &  NA &  NA &  NA &  NA & NA & NA &  NA &  NA &  NA & NA         \\\\\n",
       "\\end{tabular}\n"
      ],
      "text/markdown": [
       "\n",
       "A spec_tbl_df: 813 × 31\n",
       "\n",
       "| Sn &lt;chr&gt; | Player &lt;chr&gt; | Pos &lt;chr&gt; | Age &lt;dbl&gt; | Tm &lt;chr&gt; | G &lt;dbl&gt; | GS &lt;dbl&gt; | MP &lt;dbl&gt; | FG &lt;dbl&gt; | FGA &lt;dbl&gt; | ⋯ ⋯ | ORB &lt;dbl&gt; | DRB &lt;dbl&gt; | TRB &lt;dbl&gt; | AST &lt;dbl&gt; | STL &lt;dbl&gt; | BLK &lt;dbl&gt; | TOV &lt;dbl&gt; | PF &lt;dbl&gt; | PTS &lt;dbl&gt; | Player-additional\\ &lt;chr&gt; |\n",
       "|---|---|---|---|---|---|---|---|---|---|---|---|---|---|---|---|---|---|---|---|---|\n",
       "| 1 | Precious Achiuwa | C | 22 | TOR | 73 | 28 | 1725 | 265 | 603 | ⋯ | 146 | 327 | 473 |  82 | 37 | 41 |  84 | 151 |  664 | achiupr01\\ |\n",
       "| 2 | Steven Adams     | C | 28 | MEM | 76 | 75 | 1999 | 210 | 384 | ⋯ | 349 | 411 | 760 | 256 | 65 | 60 | 115 | 153 |  528 | adamsst01\\ |\n",
       "| 3 | Bam Adebayo      | C | 24 | MIA | 56 | 56 | 1825 | 406 | 729 | ⋯ | 137 | 427 | 564 | 190 | 80 | 44 | 148 | 171 | 1068 | adebaba01\\ |\n",
       "| ⋮ | ⋮ | ⋮ | ⋮ | ⋮ | ⋮ | ⋮ | ⋮ | ⋮ | ⋮ | ⋱ | ⋮ | ⋮ | ⋮ | ⋮ | ⋮ | ⋮ | ⋮ | ⋮ | ⋮ | ⋮ |\n",
       "| 604 | Cody Zeller | C  | 29 | POR | 27 |  0 |  355 |  51 |  90 | ⋯ |  50 |  75 | 125 |  22 |  8 |  6 |  19 |  56 | 140 | zelleco01\\ |\n",
       "| 605 | Ivica Zubac | C  | 24 | LAC | 76 | 76 | 1852 | 310 | 495 | ⋯ | 217 | 427 | 644 | 120 | 36 | 77 | 114 | 203 | 785 | zubaciv01\\ |\n",
       "| }   | NA          | NA | NA | NA  | NA | NA |   NA |  NA |  NA | ⋯ |  NA |  NA |  NA |  NA | NA | NA |  NA |  NA |  NA | NA          |\n",
       "\n"
      ],
      "text/plain": [
       "    Sn  Player           Pos Age Tm  G  GS MP   FG  FGA ⋯ ORB DRB TRB AST STL\n",
       "1   1   Precious Achiuwa C   22  TOR 73 28 1725 265 603 ⋯ 146 327 473  82 37 \n",
       "2   2   Steven Adams     C   28  MEM 76 75 1999 210 384 ⋯ 349 411 760 256 65 \n",
       "3   3   Bam Adebayo      C   24  MIA 56 56 1825 406 729 ⋯ 137 427 564 190 80 \n",
       "⋮   ⋮   ⋮                ⋮   ⋮   ⋮   ⋮  ⋮  ⋮    ⋮   ⋮   ⋱ ⋮   ⋮   ⋮   ⋮   ⋮  \n",
       "811 604 Cody Zeller      C   29  POR 27  0  355  51  90 ⋯  50  75 125  22  8 \n",
       "812 605 Ivica Zubac      C   24  LAC 76 76 1852 310 495 ⋯ 217 427 644 120 36 \n",
       "813 }   NA               NA  NA  NA  NA NA   NA  NA  NA ⋯  NA  NA  NA  NA NA \n",
       "    BLK TOV PF  PTS  Player-additional\\\\\n",
       "1   41   84 151  664 achiupr01\\\\        \n",
       "2   60  115 153  528 adamsst01\\\\        \n",
       "3   44  148 171 1068 adebaba01\\\\        \n",
       "⋮   ⋮   ⋮   ⋮   ⋮    ⋮                  \n",
       "811  6   19  56 140  zelleco01\\\\        \n",
       "812 77  114 203 785  zubaciv01\\\\        \n",
       "813 NA   NA  NA  NA  NA                 "
      ]
     },
     "metadata": {},
     "output_type": "display_data"
    }
   ],
   "source": [
    "# Read the data from website\n",
    "# URL of the team statistics page for the 2021-2022 NBA season and 2022-2023 NBA season.\n",
    "# data pulled from: url1 <- \"https://www.basketball-reference.com/leagues/NBA_2023_per_game.html\"\n",
    "#                   url2 <- \"https://www.basketball-reference.com/leagues/NBA_2022_per_game.html\"\n",
    "basket_2023 <- read_csv(\"https://raw.githubusercontent.com/DrakenRaptor/Section006-28-Proposal/main/NBA%202022-2023(1).csv\")\n",
    "basket_2023\n",
    "\n",
    "basket_2022 <- read_csv(\"https://raw.githubusercontent.com/DrakenRaptor/Section006-28-Proposal/main/2021-2022%20NBA.csv\")\n",
    "basket_2022"
   ]
  },
  {
   "cell_type": "code",
   "execution_count": 3,
   "id": "e76622c8-c363-49c5-8ae0-38c6ca28b51f",
   "metadata": {},
   "outputs": [
    {
     "data": {
      "text/html": [
       "<table class=\"dataframe\">\n",
       "<caption>A tibble: 644 × 4</caption>\n",
       "<thead>\n",
       "\t<tr><th scope=col>Player</th><th scope=col>GS</th><th scope=col>eFG%</th><th scope=col>PTS</th></tr>\n",
       "\t<tr><th scope=col>&lt;chr&gt;</th><th scope=col>&lt;dbl&gt;</th><th scope=col>&lt;dbl&gt;</th><th scope=col>&lt;dbl&gt;</th></tr>\n",
       "</thead>\n",
       "<tbody>\n",
       "\t<tr><td>Precious Achiuwa</td><td>11</td><td>0.512</td><td> 408</td></tr>\n",
       "\t<tr><td>Steven Adams    </td><td>42</td><td>0.597</td><td> 361</td></tr>\n",
       "\t<tr><td>Bam Adebayo     </td><td>61</td><td>0.540</td><td>1295</td></tr>\n",
       "\t<tr><td>⋮</td><td>⋮</td><td>⋮</td><td>⋮</td></tr>\n",
       "\t<tr><td>Trae Young </td><td>58</td><td>0.482</td><td>1545</td></tr>\n",
       "\t<tr><td>Cody Zeller</td><td> 0</td><td>0.636</td><td>  42</td></tr>\n",
       "\t<tr><td>Ivica Zubac</td><td>61</td><td>0.619</td><td> 620</td></tr>\n",
       "</tbody>\n",
       "</table>\n"
      ],
      "text/latex": [
       "A tibble: 644 × 4\n",
       "\\begin{tabular}{llll}\n",
       " Player & GS & eFG\\% & PTS\\\\\n",
       " <chr> & <dbl> & <dbl> & <dbl>\\\\\n",
       "\\hline\n",
       "\t Precious Achiuwa & 11 & 0.512 &  408\\\\\n",
       "\t Steven Adams     & 42 & 0.597 &  361\\\\\n",
       "\t Bam Adebayo      & 61 & 0.540 & 1295\\\\\n",
       "\t ⋮ & ⋮ & ⋮ & ⋮\\\\\n",
       "\t Trae Young  & 58 & 0.482 & 1545\\\\\n",
       "\t Cody Zeller &  0 & 0.636 &   42\\\\\n",
       "\t Ivica Zubac & 61 & 0.619 &  620\\\\\n",
       "\\end{tabular}\n"
      ],
      "text/markdown": [
       "\n",
       "A tibble: 644 × 4\n",
       "\n",
       "| Player &lt;chr&gt; | GS &lt;dbl&gt; | eFG% &lt;dbl&gt; | PTS &lt;dbl&gt; |\n",
       "|---|---|---|---|\n",
       "| Precious Achiuwa | 11 | 0.512 |  408 |\n",
       "| Steven Adams     | 42 | 0.597 |  361 |\n",
       "| Bam Adebayo      | 61 | 0.540 | 1295 |\n",
       "| ⋮ | ⋮ | ⋮ | ⋮ |\n",
       "| Trae Young  | 58 | 0.482 | 1545 |\n",
       "| Cody Zeller |  0 | 0.636 |   42 |\n",
       "| Ivica Zubac | 61 | 0.619 |  620 |\n",
       "\n"
      ],
      "text/plain": [
       "    Player           GS eFG%  PTS \n",
       "1   Precious Achiuwa 11 0.512  408\n",
       "2   Steven Adams     42 0.597  361\n",
       "3   Bam Adebayo      61 0.540 1295\n",
       "⋮   ⋮                ⋮  ⋮     ⋮   \n",
       "642 Trae Young       58 0.482 1545\n",
       "643 Cody Zeller       0 0.636   42\n",
       "644 Ivica Zubac      61 0.619  620"
      ]
     },
     "metadata": {},
     "output_type": "display_data"
    },
    {
     "data": {
      "text/html": [
       "<table class=\"dataframe\">\n",
       "<caption>A tibble: 813 × 4</caption>\n",
       "<thead>\n",
       "\t<tr><th scope=col>Player</th><th scope=col>GS</th><th scope=col>eFG%</th><th scope=col>PTS</th></tr>\n",
       "\t<tr><th scope=col>&lt;chr&gt;</th><th scope=col>&lt;dbl&gt;</th><th scope=col>&lt;dbl&gt;</th><th scope=col>&lt;dbl&gt;</th></tr>\n",
       "</thead>\n",
       "<tbody>\n",
       "\t<tr><td>Precious Achiuwa</td><td>28</td><td>0.486</td><td> 664</td></tr>\n",
       "\t<tr><td>Steven Adams    </td><td>75</td><td>0.547</td><td> 528</td></tr>\n",
       "\t<tr><td>Bam Adebayo     </td><td>56</td><td>0.557</td><td>1068</td></tr>\n",
       "\t<tr><td>⋮</td><td>⋮</td><td>⋮</td><td>⋮</td></tr>\n",
       "\t<tr><td>Cody Zeller</td><td> 0</td><td>0.567</td><td>140</td></tr>\n",
       "\t<tr><td>Ivica Zubac</td><td>76</td><td>0.626</td><td>785</td></tr>\n",
       "\t<tr><td>NA         </td><td>NA</td><td>   NA</td><td> NA</td></tr>\n",
       "</tbody>\n",
       "</table>\n"
      ],
      "text/latex": [
       "A tibble: 813 × 4\n",
       "\\begin{tabular}{llll}\n",
       " Player & GS & eFG\\% & PTS\\\\\n",
       " <chr> & <dbl> & <dbl> & <dbl>\\\\\n",
       "\\hline\n",
       "\t Precious Achiuwa & 28 & 0.486 &  664\\\\\n",
       "\t Steven Adams     & 75 & 0.547 &  528\\\\\n",
       "\t Bam Adebayo      & 56 & 0.557 & 1068\\\\\n",
       "\t ⋮ & ⋮ & ⋮ & ⋮\\\\\n",
       "\t Cody Zeller &  0 & 0.567 & 140\\\\\n",
       "\t Ivica Zubac & 76 & 0.626 & 785\\\\\n",
       "\t NA          & NA &    NA &  NA\\\\\n",
       "\\end{tabular}\n"
      ],
      "text/markdown": [
       "\n",
       "A tibble: 813 × 4\n",
       "\n",
       "| Player &lt;chr&gt; | GS &lt;dbl&gt; | eFG% &lt;dbl&gt; | PTS &lt;dbl&gt; |\n",
       "|---|---|---|---|\n",
       "| Precious Achiuwa | 28 | 0.486 |  664 |\n",
       "| Steven Adams     | 75 | 0.547 |  528 |\n",
       "| Bam Adebayo      | 56 | 0.557 | 1068 |\n",
       "| ⋮ | ⋮ | ⋮ | ⋮ |\n",
       "| Cody Zeller |  0 | 0.567 | 140 |\n",
       "| Ivica Zubac | 76 | 0.626 | 785 |\n",
       "| NA          | NA |    NA |  NA |\n",
       "\n"
      ],
      "text/plain": [
       "    Player           GS eFG%  PTS \n",
       "1   Precious Achiuwa 28 0.486  664\n",
       "2   Steven Adams     75 0.547  528\n",
       "3   Bam Adebayo      56 0.557 1068\n",
       "⋮   ⋮                ⋮  ⋮     ⋮   \n",
       "811 Cody Zeller       0 0.567 140 \n",
       "812 Ivica Zubac      76 0.626 785 \n",
       "813 NA               NA    NA  NA "
      ]
     },
     "metadata": {},
     "output_type": "display_data"
    }
   ],
   "source": [
    "# Select the GS(Game Started), eFG%(Effective Field Goal Precentage), and PTS (Points Per Game) to be the three variables we will focused on in this assignment\n",
    "selected_2023 <- basket_2023 |>\n",
    "                 select(Player, GS, \"eFG%\", PTS) \n",
    "selected_2023\n",
    "\n",
    "selected_2022 <- basket_2022 |>\n",
    "                 select(Player, GS, \"eFG%\", PTS) \n",
    "selected_2022"
   ]
  },
  {
   "cell_type": "markdown",
   "id": "589ea797-fd28-4870-8dfa-b1f1bc81d719",
   "metadata": {},
   "source": [
    "**Given that the datsets consists of various rows, there are various data that are not require for our analysis. Hence, we used select functions in R, to manipulate to give us 4 columns that we required: the Player name, GS, eFG%, Points as shown above.**\n",
    "\n",
    "*The code as shown in the next cell was manually created to filter the names.* "
   ]
  },
  {
   "cell_type": "code",
   "execution_count": 4,
   "id": "183fd4ec-c23f-40e5-9b63-99dcde19b193",
   "metadata": {},
   "outputs": [
    {
     "data": {
      "text/html": [
       "<style>\n",
       ".list-inline {list-style: none; margin:0; padding: 0}\n",
       ".list-inline>li {display: inline-block}\n",
       ".list-inline>li:not(:last-child)::after {content: \"\\00b7\"; padding: 0 .5ex}\n",
       "</style>\n",
       "<ol class=list-inline><li>'Kyrie Irving'</li><li>'Donovan Mitchell'</li><li>'Giannis Antetokounmpo'</li><li>'Kevin Durant'</li><li>'Jayson Tatum'</li><li>'Jaylen Brown'</li><li>'DeMar DeRozan'</li><li>'Tyrese Haliburton'</li><li>'Jrue Holiday'</li><li>'Julius Randle'</li><li>'Bam Adebayo'</li><li>'Joel Embiid'</li><li>'Pascal Siakam'</li><li>'Stephen Curry'</li><li>'Luka Dončić'</li><li>'Nikola Jokić'</li><li>'Lebron James'</li><li>'Zion Williamson'</li><li>'Shai Gilgeous-Alexander'</li><li>'Damian Lillard'</li><li>'Ja Morant'</li><li>'Paul George'</li><li>'Jaren Jackson Jr.'</li><li>'Lauri Markkanen'</li><li>'Domantas Sabonis'</li><li>'Anthony Edwards'</li><li>'De\\'Aaron Fox'</li></ol>\n"
      ],
      "text/latex": [
       "\\begin{enumerate*}\n",
       "\\item 'Kyrie Irving'\n",
       "\\item 'Donovan Mitchell'\n",
       "\\item 'Giannis Antetokounmpo'\n",
       "\\item 'Kevin Durant'\n",
       "\\item 'Jayson Tatum'\n",
       "\\item 'Jaylen Brown'\n",
       "\\item 'DeMar DeRozan'\n",
       "\\item 'Tyrese Haliburton'\n",
       "\\item 'Jrue Holiday'\n",
       "\\item 'Julius Randle'\n",
       "\\item 'Bam Adebayo'\n",
       "\\item 'Joel Embiid'\n",
       "\\item 'Pascal Siakam'\n",
       "\\item 'Stephen Curry'\n",
       "\\item 'Luka Dončić'\n",
       "\\item 'Nikola Jokić'\n",
       "\\item 'Lebron James'\n",
       "\\item 'Zion Williamson'\n",
       "\\item 'Shai Gilgeous-Alexander'\n",
       "\\item 'Damian Lillard'\n",
       "\\item 'Ja Morant'\n",
       "\\item 'Paul George'\n",
       "\\item 'Jaren Jackson Jr.'\n",
       "\\item 'Lauri Markkanen'\n",
       "\\item 'Domantas Sabonis'\n",
       "\\item 'Anthony Edwards'\n",
       "\\item 'De\\textbackslash{}'Aaron Fox'\n",
       "\\end{enumerate*}\n"
      ],
      "text/markdown": [
       "1. 'Kyrie Irving'\n",
       "2. 'Donovan Mitchell'\n",
       "3. 'Giannis Antetokounmpo'\n",
       "4. 'Kevin Durant'\n",
       "5. 'Jayson Tatum'\n",
       "6. 'Jaylen Brown'\n",
       "7. 'DeMar DeRozan'\n",
       "8. 'Tyrese Haliburton'\n",
       "9. 'Jrue Holiday'\n",
       "10. 'Julius Randle'\n",
       "11. 'Bam Adebayo'\n",
       "12. 'Joel Embiid'\n",
       "13. 'Pascal Siakam'\n",
       "14. 'Stephen Curry'\n",
       "15. 'Luka Dončić'\n",
       "16. 'Nikola Jokić'\n",
       "17. 'Lebron James'\n",
       "18. 'Zion Williamson'\n",
       "19. 'Shai Gilgeous-Alexander'\n",
       "20. 'Damian Lillard'\n",
       "21. 'Ja Morant'\n",
       "22. 'Paul George'\n",
       "23. 'Jaren Jackson Jr.'\n",
       "24. 'Lauri Markkanen'\n",
       "25. 'Domantas Sabonis'\n",
       "26. 'Anthony Edwards'\n",
       "27. 'De\\'Aaron Fox'\n",
       "\n",
       "\n"
      ],
      "text/plain": [
       " [1] \"Kyrie Irving\"            \"Donovan Mitchell\"       \n",
       " [3] \"Giannis Antetokounmpo\"   \"Kevin Durant\"           \n",
       " [5] \"Jayson Tatum\"            \"Jaylen Brown\"           \n",
       " [7] \"DeMar DeRozan\"           \"Tyrese Haliburton\"      \n",
       " [9] \"Jrue Holiday\"            \"Julius Randle\"          \n",
       "[11] \"Bam Adebayo\"             \"Joel Embiid\"            \n",
       "[13] \"Pascal Siakam\"           \"Stephen Curry\"          \n",
       "[15] \"Luka Dončić\"             \"Nikola Jokić\"           \n",
       "[17] \"Lebron James\"            \"Zion Williamson\"        \n",
       "[19] \"Shai Gilgeous-Alexander\" \"Damian Lillard\"         \n",
       "[21] \"Ja Morant\"               \"Paul George\"            \n",
       "[23] \"Jaren Jackson Jr.\"       \"Lauri Markkanen\"        \n",
       "[25] \"Domantas Sabonis\"        \"Anthony Edwards\"        \n",
       "[27] \"De'Aaron Fox\"           "
      ]
     },
     "metadata": {},
     "output_type": "display_data"
    },
    {
     "data": {
      "text/html": [
       "<style>\n",
       ".list-inline {list-style: none; margin:0; padding: 0}\n",
       ".list-inline>li {display: inline-block}\n",
       ".list-inline>li:not(:last-child)::after {content: \"\\00b7\"; padding: 0 .5ex}\n",
       "</style>\n",
       "<ol class=list-inline><li>'Stephen Curry'</li><li>'LeBron James'</li><li>'Giannis Antetokounmpo'</li><li>'DeMar DeRozan'</li><li>'Nikola Jokić'</li><li>'Luka Dončić'</li><li>'Darius Garland'</li><li>'Jarrett Allen'</li><li>'Fred VanVleet'</li><li>'Jimmy Butler'</li><li>'Chris Paul'</li><li>'Joel Embiid'</li><li>'Jayson Tatum'</li><li>'Trae Young'</li><li>'Ja Morant'</li><li>'Andrew Wiggins'</li><li>'Devin Booker'</li><li>'Dejounte Murray'</li><li>'LaMelo Ball'</li><li>'Khris Middleton'</li><li>'Karl-Anthony Towns'</li><li>'Rudy Gobert'</li><li>'Zach LaVine'</li></ol>\n"
      ],
      "text/latex": [
       "\\begin{enumerate*}\n",
       "\\item 'Stephen Curry'\n",
       "\\item 'LeBron James'\n",
       "\\item 'Giannis Antetokounmpo'\n",
       "\\item 'DeMar DeRozan'\n",
       "\\item 'Nikola Jokić'\n",
       "\\item 'Luka Dončić'\n",
       "\\item 'Darius Garland'\n",
       "\\item 'Jarrett Allen'\n",
       "\\item 'Fred VanVleet'\n",
       "\\item 'Jimmy Butler'\n",
       "\\item 'Chris Paul'\n",
       "\\item 'Joel Embiid'\n",
       "\\item 'Jayson Tatum'\n",
       "\\item 'Trae Young'\n",
       "\\item 'Ja Morant'\n",
       "\\item 'Andrew Wiggins'\n",
       "\\item 'Devin Booker'\n",
       "\\item 'Dejounte Murray'\n",
       "\\item 'LaMelo Ball'\n",
       "\\item 'Khris Middleton'\n",
       "\\item 'Karl-Anthony Towns'\n",
       "\\item 'Rudy Gobert'\n",
       "\\item 'Zach LaVine'\n",
       "\\end{enumerate*}\n"
      ],
      "text/markdown": [
       "1. 'Stephen Curry'\n",
       "2. 'LeBron James'\n",
       "3. 'Giannis Antetokounmpo'\n",
       "4. 'DeMar DeRozan'\n",
       "5. 'Nikola Jokić'\n",
       "6. 'Luka Dončić'\n",
       "7. 'Darius Garland'\n",
       "8. 'Jarrett Allen'\n",
       "9. 'Fred VanVleet'\n",
       "10. 'Jimmy Butler'\n",
       "11. 'Chris Paul'\n",
       "12. 'Joel Embiid'\n",
       "13. 'Jayson Tatum'\n",
       "14. 'Trae Young'\n",
       "15. 'Ja Morant'\n",
       "16. 'Andrew Wiggins'\n",
       "17. 'Devin Booker'\n",
       "18. 'Dejounte Murray'\n",
       "19. 'LaMelo Ball'\n",
       "20. 'Khris Middleton'\n",
       "21. 'Karl-Anthony Towns'\n",
       "22. 'Rudy Gobert'\n",
       "23. 'Zach LaVine'\n",
       "\n",
       "\n"
      ],
      "text/plain": [
       " [1] \"Stephen Curry\"         \"LeBron James\"          \"Giannis Antetokounmpo\"\n",
       " [4] \"DeMar DeRozan\"         \"Nikola Jokić\"          \"Luka Dončić\"          \n",
       " [7] \"Darius Garland\"        \"Jarrett Allen\"         \"Fred VanVleet\"        \n",
       "[10] \"Jimmy Butler\"          \"Chris Paul\"            \"Joel Embiid\"          \n",
       "[13] \"Jayson Tatum\"          \"Trae Young\"            \"Ja Morant\"            \n",
       "[16] \"Andrew Wiggins\"        \"Devin Booker\"          \"Dejounte Murray\"      \n",
       "[19] \"LaMelo Ball\"           \"Khris Middleton\"       \"Karl-Anthony Towns\"   \n",
       "[22] \"Rudy Gobert\"           \"Zach LaVine\"          "
      ]
     },
     "metadata": {},
     "output_type": "display_data"
    },
    {
     "name": "stdout",
     "output_type": "stream",
     "text": [
      "\u001b[90m# A tibble: 644 × 5\u001b[39m\n",
      "   Player                      GS `eFG%`   PTS all_star\n",
      "   \u001b[3m\u001b[90m<chr>\u001b[39m\u001b[23m                    \u001b[3m\u001b[90m<dbl>\u001b[39m\u001b[23m  \u001b[3m\u001b[90m<dbl>\u001b[39m\u001b[23m \u001b[3m\u001b[90m<dbl>\u001b[39m\u001b[23m \u001b[3m\u001b[90m<chr>\u001b[39m\u001b[23m   \n",
      "\u001b[90m 1\u001b[39m Precious Achiuwa            11  0.512   408 No      \n",
      "\u001b[90m 2\u001b[39m Steven Adams                42  0.597   361 No      \n",
      "\u001b[90m 3\u001b[39m Bam Adebayo                 61  0.54   \u001b[4m1\u001b[24m295 No      \n",
      "\u001b[90m 4\u001b[39m Ochai Agbaji                 6  0.558   232 No      \n",
      "\u001b[90m 5\u001b[39m Santi Aldama                18  0.567   562 No      \n",
      "\u001b[90m 6\u001b[39m Nickeil Alexander-Walker     3  0.582   287 No      \n",
      "\u001b[90m 7\u001b[39m Nickeil Alexander-Walker     3  0.591   228 No      \n",
      "\u001b[90m 8\u001b[39m Nickeil Alexander-Walker     0  0.55     59 No      \n",
      "\u001b[90m 9\u001b[39m Grayson Allen               59  0.581   648 No      \n",
      "\u001b[90m10\u001b[39m Jarrett Allen               60  0.651   869 No      \n",
      "\u001b[90m# … with 634 more rows\u001b[39m\n",
      "\u001b[90m# A tibble: 813 × 5\u001b[39m\n",
      "   Player                      GS `eFG%`   PTS all_star\n",
      "   \u001b[3m\u001b[90m<chr>\u001b[39m\u001b[23m                    \u001b[3m\u001b[90m<dbl>\u001b[39m\u001b[23m  \u001b[3m\u001b[90m<dbl>\u001b[39m\u001b[23m \u001b[3m\u001b[90m<dbl>\u001b[39m\u001b[23m \u001b[3m\u001b[90m<chr>\u001b[39m\u001b[23m   \n",
      "\u001b[90m 1\u001b[39m Precious Achiuwa            28  0.486   664 No      \n",
      "\u001b[90m 2\u001b[39m Steven Adams                75  0.547   528 No      \n",
      "\u001b[90m 3\u001b[39m Bam Adebayo                 56  0.557  \u001b[4m1\u001b[24m068 No      \n",
      "\u001b[90m 4\u001b[39m Santi Aldama                 0  0.424   132 No      \n",
      "\u001b[90m 5\u001b[39m LaMarcus Aldridge           12  0.566   607 No      \n",
      "\u001b[90m 6\u001b[39m Nickeil Alexander-Walker    21  0.449   692 No      \n",
      "\u001b[90m 7\u001b[39m Nickeil Alexander-Walker    19  0.45    639 No      \n",
      "\u001b[90m 8\u001b[39m Nickeil Alexander-Walker     2  0.438    53 No      \n",
      "\u001b[90m 9\u001b[39m Grayson Allen               61  0.588   733 No      \n",
      "\u001b[90m10\u001b[39m Jarrett Allen               56  0.678   904 No      \n",
      "\u001b[90m# … with 803 more rows\u001b[39m\n"
     ]
    }
   ],
   "source": [
    "# Create a vector for basketball player that is all-star in 2023\n",
    "all_stars_2023 <- c(\"Kyrie Irving\", \"Donovan Mitchell\", \"Giannis Antetokounmpo\", \"Kevin Durant\", \"Jayson Tatum\", \"Jaylen Brown\", \n",
    "                  \"DeMar DeRozan\", \"Tyrese Haliburton\", \"Jrue Holiday\", \"Julius Randle\", \"Bam Adebayo\", \"Joel Embiid\", \"Pascal Siakam\", \n",
    "                  \"Stephen Curry\", \"Luka Dončić\", \"Nikola Jokić\", \"Lebron James\", \"Zion Williamson\", \"Shai Gilgeous-Alexander\", \"Damian Lillard\", \n",
    "                  \"Ja Morant\", \"Paul George\", \"Jaren Jackson Jr.\", \"Lauri Markkanen\", \"Domantas Sabonis\",\"Anthony Edwards\", \"De'Aaron Fox\")\n",
    "all_stars_2023\n",
    "\n",
    "# Create a vector for basketball player that is all-star in 2022\n",
    "all_stars_2022 <- c(\"Stephen Curry\", \"LeBron James\", \"Giannis Antetokounmpo\", \"DeMar DeRozan\", \"Nikola Jokić\", \"Luka Dončić\", \n",
    "                    \"Darius Garland\", \"Jarrett Allen\", \"Fred VanVleet\", \"Jimmy Butler\", \"Chris Paul\", \"Joel Embiid\", \"Jayson Tatum\", \n",
    "                    \"Trae Young\", \"Ja Morant\", \"Andrew Wiggins\", \"Devin Booker\", \"Dejounte Murray\", \"LaMelo Ball\", \"Khris Middleton\", \n",
    "                    \"Karl-Anthony Towns\", \"Rudy Gobert\", \"Zach LaVine\")         \n",
    "all_stars_2022\n",
    "\n",
    "# Mutate a new column to determine the player is all-star or not.\n",
    "basket_2023_mutate <- selected_2023 |>\n",
    "    mutate(all_star = \"No\")\n",
    "\n",
    "basket_2022_mutate <- selected_2022 |>\n",
    "    mutate(all_star = \"No\")\n",
    "\n",
    "print(basket_2023_mutate, n = 10)\n",
    "print(basket_2022_mutate, n = 10)"
   ]
  },
  {
   "cell_type": "code",
   "execution_count": 5,
   "id": "5eda4310-5251-48e9-9eb3-6e2634c5069b",
   "metadata": {},
   "outputs": [
    {
     "name": "stdout",
     "output_type": "stream",
     "text": [
      "\u001b[90m# A tibble: 644 × 5\u001b[39m\n",
      "   Player                      GS `eFG%`   PTS all_star\n",
      "   \u001b[3m\u001b[90m<chr>\u001b[39m\u001b[23m                    \u001b[3m\u001b[90m<dbl>\u001b[39m\u001b[23m  \u001b[3m\u001b[90m<dbl>\u001b[39m\u001b[23m \u001b[3m\u001b[90m<dbl>\u001b[39m\u001b[23m \u001b[3m\u001b[90m<chr>\u001b[39m\u001b[23m   \n",
      "\u001b[90m 1\u001b[39m Precious Achiuwa            11  0.512   408 No      \n",
      "\u001b[90m 2\u001b[39m Steven Adams                42  0.597   361 No      \n",
      "\u001b[90m 3\u001b[39m Bam Adebayo                 61  0.54   \u001b[4m1\u001b[24m295 Yes     \n",
      "\u001b[90m 4\u001b[39m Ochai Agbaji                 6  0.558   232 No      \n",
      "\u001b[90m 5\u001b[39m Santi Aldama                18  0.567   562 No      \n",
      "\u001b[90m 6\u001b[39m Nickeil Alexander-Walker     3  0.582   287 No      \n",
      "\u001b[90m 7\u001b[39m Nickeil Alexander-Walker     3  0.591   228 No      \n",
      "\u001b[90m 8\u001b[39m Nickeil Alexander-Walker     0  0.55     59 No      \n",
      "\u001b[90m 9\u001b[39m Grayson Allen               59  0.581   648 No      \n",
      "\u001b[90m10\u001b[39m Jarrett Allen               60  0.651   869 No      \n",
      "\u001b[90m# … with 634 more rows\u001b[39m\n"
     ]
    }
   ],
   "source": [
    "# Change the value of the all-stars column for all-star players in 2023 to true\n",
    "basket_2023_mutate$all_star[basket_2023_mutate$Player == \"Kyrie Irving\"] = \"Yes\"\n",
    "basket_2023_mutate$all_star[basket_2023_mutate$Player == \"Donovan Mitchell\"] = \"Yes\"\n",
    "basket_2023_mutate$all_star[basket_2023_mutate$Player == \"Giannis Antetokounmpo\"] = \"Yes\"\n",
    "basket_2023_mutate$all_star[basket_2023_mutate$Player == \"Kevin Durant\"] = \"Yes\"\n",
    "basket_2023_mutate$all_star[basket_2023_mutate$Player == \"Jayson Tatum\"] = \"Yes\"\n",
    "basket_2023_mutate$all_star[basket_2023_mutate$Player == \"Jaylen Brown\"] = \"Yes\"\n",
    "basket_2023_mutate$all_star[basket_2023_mutate$Player == \"DeMar DeRozan\"] = \"Yes\"\n",
    "basket_2023_mutate$all_star[basket_2023_mutate$Player == \"Tyrese Haliburton\"] = \"Yes\"\n",
    "basket_2023_mutate$all_star[basket_2023_mutate$Player == \"Jrue Holiday\"] = \"Yes\"\n",
    "basket_2023_mutate$all_star[basket_2023_mutate$Player == \"Julius Randle\"] = \"Yes\"\n",
    "basket_2023_mutate$all_star[basket_2023_mutate$Player == \"Bam Adebayo\"] = \"Yes\"\n",
    "basket_2023_mutate$all_star[basket_2023_mutate$Player == \"Joel Embiid\"] = \"Yes\"\n",
    "basket_2023_mutate$all_star[basket_2023_mutate$Player == \"Pascal Siakam\"] = \"Yes\"\n",
    "basket_2023_mutate$all_star[basket_2023_mutate$Player == \"Stephen Curry\"] = \"Yes\"\n",
    "basket_2023_mutate$all_star[basket_2023_mutate$Player == \"Luka Dončić\"] = \"Yes\"\n",
    "basket_2023_mutate$all_star[basket_2023_mutate$Player == \"Nikola Jokić\"] = \"Yes\"\n",
    "basket_2023_mutate$all_star[basket_2023_mutate$Player == \"LeBron James\"] = \"Yes\"\n",
    "basket_2023_mutate$all_star[basket_2023_mutate$Player == \"Zion Williamson\"] = \"Yes\"\n",
    "basket_2023_mutate$all_star[basket_2023_mutate$Player == \"Shai Gilgeous-Alexander\"] = \"Yes\"\n",
    "basket_2023_mutate$all_star[basket_2023_mutate$Player == \"De'Aaron Fox\"] = \"Yes\"\n",
    "basket_2023_mutate$all_star[basket_2023_mutate$Player == \"Anthony Edwards\"] = \"Yes\"\n",
    "basket_2023_mutate$all_star[basket_2023_mutate$Player == \"Domantas Sabonis\"] = \"Yes\"\n",
    "basket_2023_mutate$all_star[basket_2023_mutate$Player == \"Lauri Markkanen\"] = \"Yes\"\n",
    "basket_2023_mutate$all_star[basket_2023_mutate$Player == \"Jaren Jackson Jr.\"] = \"Yes\"\n",
    "basket_2023_mutate$all_star[basket_2023_mutate$Player == \"Paul George\"] = \"Yes\"\n",
    "basket_2023_mutate$all_star[basket_2023_mutate$Player == \"Ja Morant\"] = \"Yes\"\n",
    "basket_2023_mutate$all_star[basket_2023_mutate$Player == \"Damian Lillard\"] = \"Yes\"\n",
    "print(basket_2023_mutate, n = 10)"
   ]
  },
  {
   "cell_type": "code",
   "execution_count": 6,
   "id": "391e5386-f530-4064-86b8-840b93690327",
   "metadata": {},
   "outputs": [
    {
     "name": "stdout",
     "output_type": "stream",
     "text": [
      "\u001b[90m# A tibble: 813 × 5\u001b[39m\n",
      "   Player                      GS `eFG%`   PTS all_star\n",
      "   \u001b[3m\u001b[90m<chr>\u001b[39m\u001b[23m                    \u001b[3m\u001b[90m<dbl>\u001b[39m\u001b[23m  \u001b[3m\u001b[90m<dbl>\u001b[39m\u001b[23m \u001b[3m\u001b[90m<dbl>\u001b[39m\u001b[23m \u001b[3m\u001b[90m<chr>\u001b[39m\u001b[23m   \n",
      "\u001b[90m 1\u001b[39m Precious Achiuwa            28  0.486   664 No      \n",
      "\u001b[90m 2\u001b[39m Steven Adams                75  0.547   528 No      \n",
      "\u001b[90m 3\u001b[39m Bam Adebayo                 56  0.557  \u001b[4m1\u001b[24m068 No      \n",
      "\u001b[90m 4\u001b[39m Santi Aldama                 0  0.424   132 No      \n",
      "\u001b[90m 5\u001b[39m LaMarcus Aldridge           12  0.566   607 No      \n",
      "\u001b[90m 6\u001b[39m Nickeil Alexander-Walker    21  0.449   692 No      \n",
      "\u001b[90m 7\u001b[39m Nickeil Alexander-Walker    19  0.45    639 No      \n",
      "\u001b[90m 8\u001b[39m Nickeil Alexander-Walker     2  0.438    53 No      \n",
      "\u001b[90m 9\u001b[39m Grayson Allen               61  0.588   733 No      \n",
      "\u001b[90m10\u001b[39m Jarrett Allen               56  0.678   904 Yes     \n",
      "\u001b[90m# … with 803 more rows\u001b[39m\n"
     ]
    }
   ],
   "source": [
    "# Change the value of the all-stars column for all-star players in 2022 to true\n",
    "basket_2022_mutate$all_star[basket_2022_mutate$Player == \"Stephen Curry\"] = \"Yes\"\n",
    "basket_2022_mutate$all_star[basket_2022_mutate$Player == \"LeBron James\"] = \"Yes\"\n",
    "basket_2022_mutate$all_star[basket_2022_mutate$Player == \"Giannis Antetokounmpo\"] = \"Yes\"\n",
    "basket_2022_mutate$all_star[basket_2022_mutate$Player == \"DeMar DeRozan\"] = \"Yes\"\n",
    "basket_2022_mutate$all_star[basket_2022_mutate$Player == \"Nikola Jokić\"] = \"Yes\"\n",
    "basket_2022_mutate$all_star[basket_2022_mutate$Player == \"Luka Dončić\"] = \"Yes\"\n",
    "basket_2022_mutate$all_star[basket_2022_mutate$Player == \"Darius Garland\"] = \"Yes\"\n",
    "basket_2022_mutate$all_star[basket_2022_mutate$Player == \"Jarrett Allen\"] = \"Yes\"\n",
    "basket_2022_mutate$all_star[basket_2022_mutate$Player == \"Fred VanVleet\"] = \"Yes\"\n",
    "basket_2022_mutate$all_star[basket_2022_mutate$Player == \"Jimmy Butler\"] = \"Yes\"\n",
    "basket_2022_mutate$all_star[basket_2022_mutate$Player == \"Chris Paul\"] = \"Yes\"\n",
    "basket_2022_mutate$all_star[basket_2022_mutate$Player == \"Joel Embiid\"] = \"Yes\"\n",
    "basket_2022_mutate$all_star[basket_2022_mutate$Player == \"Jayson Tatum\"] = \"Yes\"\n",
    "basket_2022_mutate$all_star[basket_2022_mutate$Player == \"Trae Young\"] = \"Yes\"\n",
    "basket_2022_mutate$all_star[basket_2022_mutate$Player == \"Ja Morant\"] = \"Yes\"\n",
    "basket_2022_mutate$all_star[basket_2022_mutate$Player == \"Andrew Wiggins\"] = \"Yes\"\n",
    "basket_2022_mutate$all_star[basket_2022_mutate$Player == \"Devin Booker\"] = \"Yes\"\n",
    "basket_2022_mutate$all_star[basket_2022_mutate$Player == \"Dejounte Murray\"] = \"Yes\"\n",
    "basket_2022_mutate$all_star[basket_2022_mutate$Player == \"LaMelo Ball\"] = \"Yes\"\n",
    "basket_2022_mutate$all_star[basket_2022_mutate$Player == \"Khris Middleton\"] = \"Yes\"\n",
    "basket_2022_mutate$all_star[basket_2022_mutate$Player == \"Karl-Anthony Towns\"] = \"Yes\"\n",
    "basket_2022_mutate$all_star[basket_2022_mutate$Player == \"Rudy Gobert\"] = \"Yes\"\n",
    "basket_2022_mutate$all_star[basket_2022_mutate$Player == \"Zach LaVine\"] = \"Yes\"\n",
    "\n",
    "print(basket_2022_mutate, n = 10)"
   ]
  },
  {
   "cell_type": "code",
   "execution_count": 7,
   "id": "cf4342ff-7f04-40a7-b573-a40b275137a3",
   "metadata": {},
   "outputs": [
    {
     "data": {
      "text/plain": [
       "\n",
       " No Yes \n",
       "427  25 "
      ]
     },
     "metadata": {},
     "output_type": "display_data"
    },
    {
     "data": {
      "text/plain": [
       "\n",
       " No Yes \n",
       "486  23 "
      ]
     },
     "metadata": {},
     "output_type": "display_data"
    }
   ],
   "source": [
    "# Identify duplicated rows based on column x\n",
    "duplicated_player_2023 <- duplicated(basket_2023_mutate$Player) | duplicated(basket_2023_mutate$Player, fromLast = TRUE)\n",
    "duplicated_player_2022 <- duplicated(basket_2022_mutate$Player) | duplicated(basket_2022_mutate$Player, fromLast = TRUE)\n",
    "# Exclude duplicated rows\n",
    "basket_2023_np <- subset(basket_2023_mutate, !duplicated_player_2023)\n",
    "basket_2022_np <- subset(basket_2022_mutate, !duplicated_player_2022)\n",
    "# table(df_new$Player)\n",
    "table(basket_2023_np$all_star)\n",
    "table(basket_2022_np$all_star)"
   ]
  },
  {
   "cell_type": "code",
   "execution_count": 8,
   "id": "9b32eac5-3ef2-4a69-983d-ced0d3e6422d",
   "metadata": {},
   "outputs": [
    {
     "name": "stdout",
     "output_type": "stream",
     "text": [
      "\u001b[90m# A tibble: 516 × 5\u001b[39m\n",
      "   Player                             GS `eFG%`   PTS all_star\n",
      "   \u001b[3m\u001b[90m<chr>\u001b[39m\u001b[23m                           \u001b[3m\u001b[90m<dbl>\u001b[39m\u001b[23m  \u001b[3m\u001b[90m<dbl>\u001b[39m\u001b[23m \u001b[3m\u001b[90m<dbl>\u001b[39m\u001b[23m \u001b[3m\u001b[90m<chr>\u001b[39m\u001b[23m   \n",
      "\u001b[90m 1\u001b[39m \u001b[90m\"\u001b[39mA.J. Green\u001b[90m\"\u001b[39m                        0  0.625   139 No      \n",
      "\u001b[90m 2\u001b[39m \u001b[90m\"\u001b[39mA.J. Lawson\u001b[90m\"\u001b[39m                       0  0.635    34 No      \n",
      "\u001b[90m 3\u001b[39m \u001b[90m\"\u001b[39mAaron Gordon\u001b[90m\"\u001b[39m                     53  0.626   897 No      \n",
      "\u001b[90m 4\u001b[39m \u001b[90m\"\u001b[39mAaron Holiday\u001b[90m\"\u001b[39m                     5  0.5     213 No      \n",
      "\u001b[90m 5\u001b[39m \u001b[90m\"\u001b[39mAaron Nesmith\u001b[90m\"\u001b[39m                    45  0.509   548 No      \n",
      "\u001b[90m 6\u001b[39m \u001b[90m\"\u001b[39mAaron Wiggins\u001b[90m\"\u001b[39m                    13  0.571   365 No      \n",
      "\u001b[90m 7\u001b[39m \u001b[90m\"\u001b[39mAdmiral Schofield\u001b[90m\"\u001b[39m                 0  0.589   129 No      \n",
      "\u001b[90m 8\u001b[39m \u001b[90m\"\u001b[39mAJ Griffin\u001b[90m\"\u001b[39m                       11  0.566   527 No      \n",
      "\u001b[90m 9\u001b[39m \u001b[90m\"\u001b[39mAl Horford\u001b[90m\"\u001b[39m                       51  0.629   501 No      \n",
      "\u001b[90m10\u001b[39m \u001b[90m\"\u001b[39mAlec Burks\u001b[90m\"\u001b[39m                        8  0.544   652 No      \n",
      "\u001b[90m11\u001b[39m \u001b[90m\"\u001b[39mAleksej Pokusevski\u001b[90m\"\u001b[39m               25  0.519   273 No      \n",
      "\u001b[90m12\u001b[39m \u001b[90m\"\u001b[39mAlex Caruso\u001b[90m\"\u001b[39m                      24  0.54    309 No      \n",
      "\u001b[90m13\u001b[39m \u001b[90m\"\u001b[39mAlex Len\u001b[90m\"\u001b[39m                          1  0.5      13 No      \n",
      "\u001b[90m14\u001b[39m \u001b[90m\"\u001b[39mAlize Johnson\u001b[90m\"\u001b[39m                     0  0.5       7 No      \n",
      "\u001b[90m15\u001b[39m \u001b[90m\"\u001b[39mAlondes Williams\u001b[90m\"\u001b[39m                  0 \u001b[31mNA\u001b[39m         0 No      \n",
      "\u001b[90m16\u001b[39m \u001b[90m\"\u001b[39mAlperen \\\\uc0\\\\u350 eng\\\\'fcn\u001b[90m\"\u001b[39m    57  0.567   889 No      \n",
      "\u001b[90m17\u001b[39m \u001b[90m\"\u001b[39mAmir Coffey\u001b[90m\"\u001b[39m                       9  0.418   163 No      \n",
      "\u001b[90m18\u001b[39m \u001b[90m\"\u001b[39mAndre Drummond\u001b[90m\"\u001b[39m                    0  0.613   323 No      \n",
      "\u001b[90m19\u001b[39m \u001b[90m\"\u001b[39mAndre Iguodala\u001b[90m\"\u001b[39m                    0  0.643     9 No      \n",
      "\u001b[90m20\u001b[39m \u001b[90m\"\u001b[39mAndrew Nembhard\u001b[90m\"\u001b[39m                  47  0.491   464 No      \n",
      "\u001b[90m21\u001b[39m \u001b[90m\"\u001b[39mAndrew Wiggins\u001b[90m\"\u001b[39m                   37  0.557   633 No      \n",
      "\u001b[90m22\u001b[39m \u001b[90m\"\u001b[39mAnfernee Simons\u001b[90m\"\u001b[39m                  57  0.55   \u001b[4m1\u001b[24m200 No      \n",
      "\u001b[90m23\u001b[39m \u001b[90m\"\u001b[39mAnthony Davis\u001b[90m\"\u001b[39m                    39  0.574  \u001b[4m1\u001b[24m087 No      \n",
      "\u001b[90m24\u001b[39m \u001b[90m\"\u001b[39mAnthony Edwards\u001b[90m\"\u001b[39m                  67  0.528  \u001b[4m1\u001b[24m655 Yes     \n",
      "\u001b[90m25\u001b[39m \u001b[90m\"\u001b[39mAnthony Gill\u001b[90m\"\u001b[39m                      5  0.601   138 No      \n",
      "\u001b[90m26\u001b[39m \u001b[90m\"\u001b[39mAnthony Lamb\u001b[90m\"\u001b[39m                      3  0.6     351 No      \n",
      "\u001b[90m27\u001b[39m \u001b[90m\"\u001b[39mAustin Reaves\u001b[90m\"\u001b[39m                    12  0.597   530 No      \n",
      "\u001b[90m28\u001b[39m \u001b[90m\"\u001b[39mAustin Rivers\u001b[90m\"\u001b[39m                    10  0.543   255 No      \n",
      "\u001b[90m29\u001b[39m \u001b[90m\"\u001b[39mAyo Dosunmu\u001b[90m\"\u001b[39m                      49  0.551   577 No      \n",
      "\u001b[90m30\u001b[39m \u001b[90m\"\u001b[39mBam Adebayo\u001b[90m\"\u001b[39m                      61  0.54   \u001b[4m1\u001b[24m295 Yes     \n",
      "\u001b[90m# … with 486 more rows\u001b[39m\n",
      "\u001b[90m# A tibble: 27 × 5\u001b[39m\n",
      "   Player                     GS `eFG%`   PTS all_star\n",
      "   \u001b[3m\u001b[90m<chr>\u001b[39m\u001b[23m                   \u001b[3m\u001b[90m<dbl>\u001b[39m\u001b[23m  \u001b[3m\u001b[90m<dbl>\u001b[39m\u001b[23m \u001b[3m\u001b[90m<dbl>\u001b[39m\u001b[23m \u001b[3m\u001b[90m<chr>\u001b[39m\u001b[23m   \n",
      "\u001b[90m 1\u001b[39m Anthony Edwards            67  0.528  \u001b[4m1\u001b[24m655 Yes     \n",
      "\u001b[90m 2\u001b[39m Bam Adebayo                61  0.54   \u001b[4m1\u001b[24m295 Yes     \n",
      "\u001b[90m 3\u001b[39m Damian Lillard             52  0.57   \u001b[4m1\u001b[24m687 Yes     \n",
      "\u001b[90m 4\u001b[39m De'Aaron Fox               57  0.557  \u001b[4m1\u001b[24m455 Yes     \n",
      "\u001b[90m 5\u001b[39m DeMar DeRozan              59  0.526  \u001b[4m1\u001b[24m478 Yes     \n",
      "\u001b[90m 6\u001b[39m Domantas Sabonis           62  0.633  \u001b[4m1\u001b[24m174 Yes     \n",
      "\u001b[90m 7\u001b[39m Donovan Mitchell           56  0.568  \u001b[4m1\u001b[24m545 Yes     \n",
      "\u001b[90m 8\u001b[39m Giannis Antetokounmpo      52  0.559  \u001b[4m1\u001b[24m621 Yes     \n",
      "\u001b[90m 9\u001b[39m Ja Morant                  53  0.502  \u001b[4m1\u001b[24m436 Yes     \n",
      "\u001b[90m10\u001b[39m Jaren Jackson Jr.          47  0.554   800 Yes     \n",
      "\u001b[90m11\u001b[39m Jaylen Brown               54  0.546  \u001b[4m1\u001b[24m439 Yes     \n",
      "\u001b[90m12\u001b[39m Jayson Tatum               61  0.537  \u001b[4m1\u001b[24m851 Yes     \n",
      "\u001b[90m13\u001b[39m Joel Embiid                52  0.564  \u001b[4m1\u001b[24m731 Yes     \n",
      "\u001b[90m14\u001b[39m Jrue Holiday               51  0.555  \u001b[4m1\u001b[24m053 Yes     \n",
      "\u001b[90m15\u001b[39m Julius Randle              67  0.544  \u001b[4m1\u001b[24m693 Yes     \n",
      "\u001b[90m16\u001b[39m Kevin Durant               42  0.616  \u001b[4m1\u001b[24m238 Yes     \n",
      "\u001b[90m17\u001b[39m Kyrie Irving               50  0.574  \u001b[4m1\u001b[24m360 Yes     \n",
      "\u001b[90m18\u001b[39m Lauri Markkanen            59  0.603  \u001b[4m1\u001b[24m493 Yes     \n",
      "\u001b[90m19\u001b[39m LeBron James               47  0.549  \u001b[4m1\u001b[24m388 Yes     \n",
      "\u001b[90m20\u001b[39m Luka Dončić                56  0.566  \u001b[4m1\u001b[24m864 Yes     \n",
      "\u001b[90m21\u001b[39m Nikola Jokić               57  0.661  \u001b[4m1\u001b[24m389 Yes     \n",
      "\u001b[90m22\u001b[39m Pascal Siakam              56  0.512  \u001b[4m1\u001b[24m384 Yes     \n",
      "\u001b[90m23\u001b[39m Paul George                50  0.542  \u001b[4m1\u001b[24m186 Yes     \n",
      "\u001b[90m24\u001b[39m Shai Gilgeous-Alexander    56  0.532  \u001b[4m1\u001b[24m745 Yes     \n",
      "\u001b[90m25\u001b[39m Stephen Curry              40  0.622  \u001b[4m1\u001b[24m186 Yes     \n",
      "\u001b[90m26\u001b[39m Tyrese Haliburton          53  0.587  \u001b[4m1\u001b[24m093 Yes     \n",
      "\u001b[90m27\u001b[39m Zion Williamson            29  0.615   754 Yes     \n"
     ]
    }
   ],
   "source": [
    "\n",
    "# Reverse sort\n",
    "z <- basket_2023_mutate[order(basket_2023_mutate$Player, basket_2023_mutate$PTS, decreasing=TRUE),]\n",
    "\n",
    "# Keep only the first row for each duplicate of z$id; this row will have the\n",
    "# largest value for z$var\n",
    "z <- z[!duplicated(z$Player),]\n",
    "\n",
    "# Sort so it looks nice\n",
    "z <- z[order(z$Player, z$PTS),]\n",
    "print(z, n = 30)\n",
    "\n",
    "z <- filter(z, all_star == \"Yes\")\n",
    "print(z, n = 30)"
   ]
  },
  {
   "cell_type": "code",
   "execution_count": 9,
   "id": "b36d163b-22a5-4791-a862-6e48fc1890aa",
   "metadata": {},
   "outputs": [
    {
     "data": {
      "text/plain": [
       "\n",
       "        No        Yes \n",
       "0.94469027 0.05530973 "
      ]
     },
     "metadata": {},
     "output_type": "display_data"
    },
    {
     "data": {
      "text/plain": [
       "\n",
       "        No        Yes \n",
       "0.95481336 0.04518664 "
      ]
     },
     "metadata": {},
     "output_type": "display_data"
    },
    {
     "data": {
      "text/plain": [
       "\n",
       " No Yes \n",
       "427  25 "
      ]
     },
     "metadata": {},
     "output_type": "display_data"
    },
    {
     "data": {
      "text/plain": [
       "\n",
       " No Yes \n",
       "486  23 "
      ]
     },
     "metadata": {},
     "output_type": "display_data"
    }
   ],
   "source": [
    "# Calculate the propotion between all-star player and normal player\n",
    "prop.table(table(basket_2023_np$all_star))\n",
    "prop.table(table(basket_2022_np$all_star))\n",
    "table(basket_2023_np$all_star)\n",
    "table(basket_2022_np$all_star)"
   ]
  },
  {
   "cell_type": "code",
   "execution_count": 10,
   "id": "54a5f321-d0a4-422c-b4aa-0367fb8cc00d",
   "metadata": {},
   "outputs": [
    {
     "data": {
      "text/html": [
       "<table class=\"dataframe\">\n",
       "<caption>A tibble: 644 × 5</caption>\n",
       "<thead>\n",
       "\t<tr><th scope=col>player</th><th scope=col>games_started</th><th scope=col>effective_field_goal</th><th scope=col>points</th><th scope=col>all_star</th></tr>\n",
       "\t<tr><th scope=col>&lt;chr&gt;</th><th scope=col>&lt;dbl&gt;</th><th scope=col>&lt;dbl&gt;</th><th scope=col>&lt;dbl&gt;</th><th scope=col>&lt;fct&gt;</th></tr>\n",
       "</thead>\n",
       "<tbody>\n",
       "\t<tr><td>Precious Achiuwa</td><td>11</td><td>0.512</td><td> 408</td><td>No </td></tr>\n",
       "\t<tr><td>Steven Adams    </td><td>42</td><td>0.597</td><td> 361</td><td>No </td></tr>\n",
       "\t<tr><td>Bam Adebayo     </td><td>61</td><td>0.540</td><td>1295</td><td>Yes</td></tr>\n",
       "\t<tr><td>⋮</td><td>⋮</td><td>⋮</td><td>⋮</td><td>⋮</td></tr>\n",
       "\t<tr><td>Trae Young </td><td>58</td><td>0.482</td><td>1545</td><td>No</td></tr>\n",
       "\t<tr><td>Cody Zeller</td><td> 0</td><td>0.636</td><td>  42</td><td>No</td></tr>\n",
       "\t<tr><td>Ivica Zubac</td><td>61</td><td>0.619</td><td> 620</td><td>No</td></tr>\n",
       "</tbody>\n",
       "</table>\n"
      ],
      "text/latex": [
       "A tibble: 644 × 5\n",
       "\\begin{tabular}{lllll}\n",
       " player & games\\_started & effective\\_field\\_goal & points & all\\_star\\\\\n",
       " <chr> & <dbl> & <dbl> & <dbl> & <fct>\\\\\n",
       "\\hline\n",
       "\t Precious Achiuwa & 11 & 0.512 &  408 & No \\\\\n",
       "\t Steven Adams     & 42 & 0.597 &  361 & No \\\\\n",
       "\t Bam Adebayo      & 61 & 0.540 & 1295 & Yes\\\\\n",
       "\t ⋮ & ⋮ & ⋮ & ⋮ & ⋮\\\\\n",
       "\t Trae Young  & 58 & 0.482 & 1545 & No\\\\\n",
       "\t Cody Zeller &  0 & 0.636 &   42 & No\\\\\n",
       "\t Ivica Zubac & 61 & 0.619 &  620 & No\\\\\n",
       "\\end{tabular}\n"
      ],
      "text/markdown": [
       "\n",
       "A tibble: 644 × 5\n",
       "\n",
       "| player &lt;chr&gt; | games_started &lt;dbl&gt; | effective_field_goal &lt;dbl&gt; | points &lt;dbl&gt; | all_star &lt;fct&gt; |\n",
       "|---|---|---|---|---|\n",
       "| Precious Achiuwa | 11 | 0.512 |  408 | No  |\n",
       "| Steven Adams     | 42 | 0.597 |  361 | No  |\n",
       "| Bam Adebayo      | 61 | 0.540 | 1295 | Yes |\n",
       "| ⋮ | ⋮ | ⋮ | ⋮ | ⋮ |\n",
       "| Trae Young  | 58 | 0.482 | 1545 | No |\n",
       "| Cody Zeller |  0 | 0.636 |   42 | No |\n",
       "| Ivica Zubac | 61 | 0.619 |  620 | No |\n",
       "\n"
      ],
      "text/plain": [
       "    player           games_started effective_field_goal points all_star\n",
       "1   Precious Achiuwa 11            0.512                 408   No      \n",
       "2   Steven Adams     42            0.597                 361   No      \n",
       "3   Bam Adebayo      61            0.540                1295   Yes     \n",
       "⋮   ⋮                ⋮             ⋮                    ⋮      ⋮       \n",
       "642 Trae Young       58            0.482                1545   No      \n",
       "643 Cody Zeller       0            0.636                  42   No      \n",
       "644 Ivica Zubac      61            0.619                 620   No      "
      ]
     },
     "metadata": {},
     "output_type": "display_data"
    }
   ],
   "source": [
    "asfactor_all_star <- basket_2023_mutate |>\n",
    "                     mutate(all_star = as_factor(all_star)) |>\n",
    "                     rename(effective_field_goal = \"eFG%\", points = PTS, games_started= GS, player = Player) \n",
    "asfactor_all_star"
   ]
  },
  {
   "cell_type": "code",
   "execution_count": 11,
   "id": "ed2f5a6c-06fa-4c52-87df-6f12a3711d58",
   "metadata": {},
   "outputs": [
    {
     "data": {
      "text/html": [
       "<table class=\"dataframe\">\n",
       "<caption>A tibble: 483 × 5</caption>\n",
       "<thead>\n",
       "\t<tr><th scope=col>player</th><th scope=col>games_started</th><th scope=col>effective_field_goal</th><th scope=col>points</th><th scope=col>all_star</th></tr>\n",
       "\t<tr><th scope=col>&lt;chr&gt;</th><th scope=col>&lt;dbl&gt;</th><th scope=col>&lt;dbl&gt;</th><th scope=col>&lt;dbl&gt;</th><th scope=col>&lt;fct&gt;</th></tr>\n",
       "</thead>\n",
       "<tbody>\n",
       "\t<tr><td>Precious Achiuwa        </td><td>11</td><td>0.512</td><td>408</td><td>No</td></tr>\n",
       "\t<tr><td>Steven Adams            </td><td>42</td><td>0.597</td><td>361</td><td>No</td></tr>\n",
       "\t<tr><td>Nickeil Alexander-Walker</td><td> 3</td><td>0.582</td><td>287</td><td>No</td></tr>\n",
       "\t<tr><td>⋮</td><td>⋮</td><td>⋮</td><td>⋮</td><td>⋮</td></tr>\n",
       "\t<tr><td>Trae Young </td><td>58</td><td>0.482</td><td>1545</td><td>No</td></tr>\n",
       "\t<tr><td>Cody Zeller</td><td> 0</td><td>0.636</td><td>  42</td><td>No</td></tr>\n",
       "\t<tr><td>Ivica Zubac</td><td>61</td><td>0.619</td><td> 620</td><td>No</td></tr>\n",
       "</tbody>\n",
       "</table>\n"
      ],
      "text/latex": [
       "A tibble: 483 × 5\n",
       "\\begin{tabular}{lllll}\n",
       " player & games\\_started & effective\\_field\\_goal & points & all\\_star\\\\\n",
       " <chr> & <dbl> & <dbl> & <dbl> & <fct>\\\\\n",
       "\\hline\n",
       "\t Precious Achiuwa         & 11 & 0.512 & 408 & No\\\\\n",
       "\t Steven Adams             & 42 & 0.597 & 361 & No\\\\\n",
       "\t Nickeil Alexander-Walker &  3 & 0.582 & 287 & No\\\\\n",
       "\t ⋮ & ⋮ & ⋮ & ⋮ & ⋮\\\\\n",
       "\t Trae Young  & 58 & 0.482 & 1545 & No\\\\\n",
       "\t Cody Zeller &  0 & 0.636 &   42 & No\\\\\n",
       "\t Ivica Zubac & 61 & 0.619 &  620 & No\\\\\n",
       "\\end{tabular}\n"
      ],
      "text/markdown": [
       "\n",
       "A tibble: 483 × 5\n",
       "\n",
       "| player &lt;chr&gt; | games_started &lt;dbl&gt; | effective_field_goal &lt;dbl&gt; | points &lt;dbl&gt; | all_star &lt;fct&gt; |\n",
       "|---|---|---|---|---|\n",
       "| Precious Achiuwa         | 11 | 0.512 | 408 | No |\n",
       "| Steven Adams             | 42 | 0.597 | 361 | No |\n",
       "| Nickeil Alexander-Walker |  3 | 0.582 | 287 | No |\n",
       "| ⋮ | ⋮ | ⋮ | ⋮ | ⋮ |\n",
       "| Trae Young  | 58 | 0.482 | 1545 | No |\n",
       "| Cody Zeller |  0 | 0.636 |   42 | No |\n",
       "| Ivica Zubac | 61 | 0.619 |  620 | No |\n",
       "\n"
      ],
      "text/plain": [
       "    player                   games_started effective_field_goal points all_star\n",
       "1   Precious Achiuwa         11            0.512                408    No      \n",
       "2   Steven Adams             42            0.597                361    No      \n",
       "3   Nickeil Alexander-Walker  3            0.582                287    No      \n",
       "⋮   ⋮                        ⋮             ⋮                    ⋮      ⋮       \n",
       "481 Trae Young               58            0.482                1545   No      \n",
       "482 Cody Zeller               0            0.636                  42   No      \n",
       "483 Ivica Zubac              61            0.619                 620   No      "
      ]
     },
     "metadata": {},
     "output_type": "display_data"
    },
    {
     "data": {
      "text/html": [
       "<table class=\"dataframe\">\n",
       "<caption>A tibble: 161 × 5</caption>\n",
       "<thead>\n",
       "\t<tr><th scope=col>player</th><th scope=col>games_started</th><th scope=col>effective_field_goal</th><th scope=col>points</th><th scope=col>all_star</th></tr>\n",
       "\t<tr><th scope=col>&lt;chr&gt;</th><th scope=col>&lt;dbl&gt;</th><th scope=col>&lt;dbl&gt;</th><th scope=col>&lt;dbl&gt;</th><th scope=col>&lt;fct&gt;</th></tr>\n",
       "</thead>\n",
       "<tbody>\n",
       "\t<tr><td>Bam Adebayo </td><td>61</td><td>0.540</td><td>1295</td><td>Yes</td></tr>\n",
       "\t<tr><td>Ochai Agbaji</td><td> 6</td><td>0.558</td><td> 232</td><td>No </td></tr>\n",
       "\t<tr><td>Santi Aldama</td><td>18</td><td>0.567</td><td> 562</td><td>No </td></tr>\n",
       "\t<tr><td>⋮</td><td>⋮</td><td>⋮</td><td>⋮</td><td>⋮</td></tr>\n",
       "\t<tr><td>Jalen Williams    </td><td>47</td><td>0.568</td><td>795</td><td>No</td></tr>\n",
       "\t<tr><td>James Wiseman     </td><td> 0</td><td>0.633</td><td>145</td><td>No</td></tr>\n",
       "\t<tr><td>McKinley Wright IV</td><td> 1</td><td>0.510</td><td> 57</td><td>No</td></tr>\n",
       "</tbody>\n",
       "</table>\n"
      ],
      "text/latex": [
       "A tibble: 161 × 5\n",
       "\\begin{tabular}{lllll}\n",
       " player & games\\_started & effective\\_field\\_goal & points & all\\_star\\\\\n",
       " <chr> & <dbl> & <dbl> & <dbl> & <fct>\\\\\n",
       "\\hline\n",
       "\t Bam Adebayo  & 61 & 0.540 & 1295 & Yes\\\\\n",
       "\t Ochai Agbaji &  6 & 0.558 &  232 & No \\\\\n",
       "\t Santi Aldama & 18 & 0.567 &  562 & No \\\\\n",
       "\t ⋮ & ⋮ & ⋮ & ⋮ & ⋮\\\\\n",
       "\t Jalen Williams     & 47 & 0.568 & 795 & No\\\\\n",
       "\t James Wiseman      &  0 & 0.633 & 145 & No\\\\\n",
       "\t McKinley Wright IV &  1 & 0.510 &  57 & No\\\\\n",
       "\\end{tabular}\n"
      ],
      "text/markdown": [
       "\n",
       "A tibble: 161 × 5\n",
       "\n",
       "| player &lt;chr&gt; | games_started &lt;dbl&gt; | effective_field_goal &lt;dbl&gt; | points &lt;dbl&gt; | all_star &lt;fct&gt; |\n",
       "|---|---|---|---|---|\n",
       "| Bam Adebayo  | 61 | 0.540 | 1295 | Yes |\n",
       "| Ochai Agbaji |  6 | 0.558 |  232 | No  |\n",
       "| Santi Aldama | 18 | 0.567 |  562 | No  |\n",
       "| ⋮ | ⋮ | ⋮ | ⋮ | ⋮ |\n",
       "| Jalen Williams     | 47 | 0.568 | 795 | No |\n",
       "| James Wiseman      |  0 | 0.633 | 145 | No |\n",
       "| McKinley Wright IV |  1 | 0.510 |  57 | No |\n",
       "\n"
      ],
      "text/plain": [
       "    player             games_started effective_field_goal points all_star\n",
       "1   Bam Adebayo        61            0.540                1295   Yes     \n",
       "2   Ochai Agbaji        6            0.558                 232   No      \n",
       "3   Santi Aldama       18            0.567                 562   No      \n",
       "⋮   ⋮                  ⋮             ⋮                    ⋮      ⋮       \n",
       "159 Jalen Williams     47            0.568                795    No      \n",
       "160 James Wiseman       0            0.633                145    No      \n",
       "161 McKinley Wright IV  1            0.510                 57    No      "
      ]
     },
     "metadata": {},
     "output_type": "display_data"
    }
   ],
   "source": [
    "split <- initial_split(asfactor_all_star, prop = 0.75, strata = all_star) \n",
    "new_obs_training <- training(split)\n",
    "new_obs_training\n",
    "new_obs_testing <- testing(split)\n",
    "new_obs_testing"
   ]
  },
  {
   "cell_type": "code",
   "execution_count": 12,
   "id": "e8eb4db1-303c-4db7-a24f-d814862c870b",
   "metadata": {},
   "outputs": [
    {
     "data": {
      "text/html": [
       "<table class=\"dataframe\">\n",
       "<caption>A tibble: 63 × 2</caption>\n",
       "<thead>\n",
       "\t<tr><th scope=col>games_started</th><th scope=col>mean_points</th></tr>\n",
       "\t<tr><th scope=col>&lt;dbl&gt;</th><th scope=col>&lt;dbl&gt;</th></tr>\n",
       "</thead>\n",
       "<tbody>\n",
       "\t<tr><td>0</td><td> 95.81169</td></tr>\n",
       "\t<tr><td>1</td><td>145.55000</td></tr>\n",
       "\t<tr><td>2</td><td>177.44000</td></tr>\n",
       "\t<tr><td>⋮</td><td>⋮</td></tr>\n",
       "\t<tr><td>65</td><td>1093</td></tr>\n",
       "\t<tr><td>66</td><td>1185</td></tr>\n",
       "\t<tr><td>67</td><td>1674</td></tr>\n",
       "</tbody>\n",
       "</table>\n"
      ],
      "text/latex": [
       "A tibble: 63 × 2\n",
       "\\begin{tabular}{ll}\n",
       " games\\_started & mean\\_points\\\\\n",
       " <dbl> & <dbl>\\\\\n",
       "\\hline\n",
       "\t 0 &  95.81169\\\\\n",
       "\t 1 & 145.55000\\\\\n",
       "\t 2 & 177.44000\\\\\n",
       "\t ⋮ & ⋮\\\\\n",
       "\t 65 & 1093\\\\\n",
       "\t 66 & 1185\\\\\n",
       "\t 67 & 1674\\\\\n",
       "\\end{tabular}\n"
      ],
      "text/markdown": [
       "\n",
       "A tibble: 63 × 2\n",
       "\n",
       "| games_started &lt;dbl&gt; | mean_points &lt;dbl&gt; |\n",
       "|---|---|\n",
       "| 0 |  95.81169 |\n",
       "| 1 | 145.55000 |\n",
       "| 2 | 177.44000 |\n",
       "| ⋮ | ⋮ |\n",
       "| 65 | 1093 |\n",
       "| 66 | 1185 |\n",
       "| 67 | 1674 |\n",
       "\n"
      ],
      "text/plain": [
       "   games_started mean_points\n",
       "1  0              95.81169  \n",
       "2  1             145.55000  \n",
       "3  2             177.44000  \n",
       "⋮  ⋮             ⋮          \n",
       "61 65            1093       \n",
       "62 66            1185       \n",
       "63 67            1674       "
      ]
     },
     "metadata": {},
     "output_type": "display_data"
    }
   ],
   "source": [
    "#summary statistics\n",
    "#let's try to figure out which of the variables will be the best predictor for our target variable. \n",
    "#we'll group by the games started by each player and find they're mean points per game\n",
    "\n",
    "summary <- new_obs_training |>\n",
    "           group_by(games_started) |> \n",
    "           summarize(mean_points = mean(points))\n",
    "summary\n",
    "\n",
    "\n",
    "#this shows that the higher the number of games started, the higher the average number of points scored per game, \n",
    "#increasing such a player's chances of making it into the all star selections."
   ]
  },
  {
   "cell_type": "code",
   "execution_count": 14,
   "id": "a4e5230f-dab8-4171-919e-801492618518",
   "metadata": {},
   "outputs": [
    {
     "data": {
      "image/png": "[encoded data removed]",
      "text/plain": [
       "plot without title"
      ]
     },
     "metadata": {
      "image/png": {
       "height": 720,
       "width": 720
      }
     },
     "output_type": "display_data"
    }
   ],
   "source": [
    "options(repr.plot.width = 12, repr.plot.height = 12)\n",
    "#let's plot games started against the mean number of points to visualize this \n",
    "gs_against_meanpts <- summary |>\n",
    "                      ggplot(aes(x = games_started, y= mean_points)) +\n",
    "                      geom_point() +\n",
    "                      labs(x= \"Games started by players\", y= \"Mean points scored\")\n",
    "gs_against_meanpts"
   ]
  },
  {
   "cell_type": "code",
   "execution_count": 18,
   "id": "deac9bfd-6df5-4a66-b7ba-0f5544288915",
   "metadata": {},
   "outputs": [
    {
     "data": {
      "text/html": [
       "<table class=\"dataframe\">\n",
       "<caption>A tibble: 2 × 2</caption>\n",
       "<thead>\n",
       "\t<tr><th scope=col>all_star</th><th scope=col>mean_points</th></tr>\n",
       "\t<tr><th scope=col>&lt;fct&gt;</th><th scope=col>&lt;dbl&gt;</th></tr>\n",
       "</thead>\n",
       "<tbody>\n",
       "\t<tr><td>No </td><td> 346.8031</td></tr>\n",
       "\t<tr><td>Yes</td><td>1337.7692</td></tr>\n",
       "</tbody>\n",
       "</table>\n"
      ],
      "text/latex": [
       "A tibble: 2 × 2\n",
       "\\begin{tabular}{ll}\n",
       " all\\_star & mean\\_points\\\\\n",
       " <fct> & <dbl>\\\\\n",
       "\\hline\n",
       "\t No  &  346.8031\\\\\n",
       "\t Yes & 1337.7692\\\\\n",
       "\\end{tabular}\n"
      ],
      "text/markdown": [
       "\n",
       "A tibble: 2 × 2\n",
       "\n",
       "| all_star &lt;fct&gt; | mean_points &lt;dbl&gt; |\n",
       "|---|---|\n",
       "| No  |  346.8031 |\n",
       "| Yes | 1337.7692 |\n",
       "\n"
      ],
      "text/plain": [
       "  all_star mean_points\n",
       "1 No        346.8031  \n",
       "2 Yes      1337.7692  "
      ]
     },
     "metadata": {},
     "output_type": "display_data"
    }
   ],
   "source": [
    "#let's group by all star players, and find the mean points scored \n",
    "summary1 <- new_obs_training |>\n",
    "            group_by(all_star) |> \n",
    "            summarize(mean_points = mean(points))\n",
    "summary1\n",
    "\n",
    "#here we can see that players who got selected as all star players have higher points per game on average. "
   ]
  },
  {
   "cell_type": "code",
   "execution_count": 22,
   "id": "1bd7f7bd-ed7f-4a98-89b5-bf2d96458616",
   "metadata": {},
   "outputs": [
    {
     "data": {
      "text/html": [
       "<table class=\"dataframe\">\n",
       "<caption>A tibble: 346 × 2</caption>\n",
       "<thead>\n",
       "\t<tr><th scope=col>points</th><th scope=col>mean_efg</th></tr>\n",
       "\t<tr><th scope=col>&lt;dbl&gt;</th><th scope=col>&lt;dbl&gt;</th></tr>\n",
       "</thead>\n",
       "<tbody>\n",
       "\t<tr><td>0</td><td>       NA</td></tr>\n",
       "\t<tr><td>2</td><td>0.5500000</td></tr>\n",
       "\t<tr><td>3</td><td>0.5475714</td></tr>\n",
       "\t<tr><td>⋮</td><td>⋮</td></tr>\n",
       "\t<tr><td>1731</td><td>0.564</td></tr>\n",
       "\t<tr><td>1745</td><td>0.532</td></tr>\n",
       "\t<tr><td>1851</td><td>0.537</td></tr>\n",
       "</tbody>\n",
       "</table>\n"
      ],
      "text/latex": [
       "A tibble: 346 × 2\n",
       "\\begin{tabular}{ll}\n",
       " points & mean\\_efg\\\\\n",
       " <dbl> & <dbl>\\\\\n",
       "\\hline\n",
       "\t 0 &        NA\\\\\n",
       "\t 2 & 0.5500000\\\\\n",
       "\t 3 & 0.5475714\\\\\n",
       "\t ⋮ & ⋮\\\\\n",
       "\t 1731 & 0.564\\\\\n",
       "\t 1745 & 0.532\\\\\n",
       "\t 1851 & 0.537\\\\\n",
       "\\end{tabular}\n"
      ],
      "text/markdown": [
       "\n",
       "A tibble: 346 × 2\n",
       "\n",
       "| points &lt;dbl&gt; | mean_efg &lt;dbl&gt; |\n",
       "|---|---|\n",
       "| 0 |        NA |\n",
       "| 2 | 0.5500000 |\n",
       "| 3 | 0.5475714 |\n",
       "| ⋮ | ⋮ |\n",
       "| 1731 | 0.564 |\n",
       "| 1745 | 0.532 |\n",
       "| 1851 | 0.537 |\n",
       "\n"
      ],
      "text/plain": [
       "    points mean_efg \n",
       "1   0             NA\n",
       "2   2      0.5500000\n",
       "3   3      0.5475714\n",
       "⋮   ⋮      ⋮        \n",
       "344 1731   0.564    \n",
       "345 1745   0.532    \n",
       "346 1851   0.537    "
      ]
     },
     "metadata": {},
     "output_type": "display_data"
    }
   ],
   "source": [
    "#let's group by the points scored by the players and see the relationship between it and the effective field goal \n",
    "summary2 <- new_obs_training |>\n",
    "            group_by(points) |> \n",
    "            summarize(mean_efg = mean(effective_field_goal))\n",
    "summary2\n"
   ]
  },
  {
   "cell_type": "code",
   "execution_count": null,
   "id": "8170d264-f169-4fb5-afbe-2728cc536d00",
   "metadata": {},
   "outputs": [],
   "source": [
    "#we don't see any relationship between them "
   ]
  },
  {
   "cell_type": "code",
   "execution_count": 15,
   "id": "e53a0cff-79dc-43c4-84db-1772ff38c06e",
   "metadata": {},
   "outputs": [
    {
     "name": "stderr",
     "output_type": "stream",
     "text": [
      "ERROR while rich displaying an object: Error in FUN(X[[i]], ...): object 'PTS' not found\n",
      "\n",
      "Traceback:\n",
      "1. tryCatch(withCallingHandlers({\n",
      " .     if (!mime %in% names(repr::mime2repr)) \n",
      " .         stop(\"No repr_* for mimetype \", mime, \" in repr::mime2repr\")\n",
      " .     rpr <- repr::mime2repr[[mime]](obj)\n",
      " .     if (is.null(rpr)) \n",
      " .         return(NULL)\n",
      " .     prepare_content(is.raw(rpr), rpr)\n",
      " . }, error = error_handler), error = outer_handler)\n",
      "2. tryCatchList(expr, classes, parentenv, handlers)\n",
      "3. tryCatchOne(expr, names, parentenv, handlers[[1L]])\n",
      "4. doTryCatch(return(expr), name, parentenv, handler)\n",
      "5. withCallingHandlers({\n",
      " .     if (!mime %in% names(repr::mime2repr)) \n",
      " .         stop(\"No repr_* for mimetype \", mime, \" in repr::mime2repr\")\n",
      " .     rpr <- repr::mime2repr[[mime]](obj)\n",
      " .     if (is.null(rpr)) \n",
      " .         return(NULL)\n",
      " .     prepare_content(is.raw(rpr), rpr)\n",
      " . }, error = error_handler)\n",
      "6. repr::mime2repr[[mime]](obj)\n",
      "7. repr_text.default(obj)\n",
      "8. paste(capture.output(print(obj)), collapse = \"\\n\")\n",
      "9. capture.output(print(obj))\n",
      "10. withVisible(...elt(i))\n",
      "11. print(obj)\n",
      "12. print.ggplot(obj)\n",
      "13. ggplot_build(x)\n",
      "14. ggplot_build.ggplot(x)\n",
      "15. by_layer(function(l, d) l$compute_aesthetics(d, plot))\n",
      "16. f(l = layers[[i]], d = data[[i]])\n",
      "17. l$compute_aesthetics(d, plot)\n",
      "18. f(..., self = self)\n",
      "19. scales_add_defaults(plot$scales, data, aesthetics, plot$plot_env)\n",
      "20. lapply(aesthetics[new_aesthetics], eval_tidy, data = data)\n",
      "21. FUN(X[[i]], ...)\n"
     ]
    },
    {
     "data": {
      "image/png": "[encoded data removed]",
      "text/plain": [
       "plot without title"
      ]
     },
     "metadata": {
      "image/png": {
       "height": 480,
       "width": 480
      }
     },
     "output_type": "display_data"
    }
   ],
   "source": [
    "options(repr.plot.width = 8, repr.plot.height = 8) \n",
    "\n",
    "position_plot <- new_obs_training |>\n",
    "    ggplot(aes(x = PTS, y = `eFG%`, color = Player)) +\n",
    "    geom_point() +\n",
    "    labs(x = \"Points\", y = \"eFG%\", color = \"Position\", title = \"Points vs Position\") +\n",
    "    theme(text = element_text(size = 20))\n",
    "\n",
    "position_plot"
   ]
  },
  {
   "cell_type": "code",
   "execution_count": 16,
   "id": "57f9bf84-cf33-4298-8b1d-c2eeb6a91ee7",
   "metadata": {},
   "outputs": [
    {
     "name": "stderr",
     "output_type": "stream",
     "text": [
      "ERROR while rich displaying an object: Error in FUN(X[[i]], ...): object 'PTS' not found\n",
      "\n",
      "Traceback:\n",
      "1. tryCatch(withCallingHandlers({\n",
      " .     if (!mime %in% names(repr::mime2repr)) \n",
      " .         stop(\"No repr_* for mimetype \", mime, \" in repr::mime2repr\")\n",
      " .     rpr <- repr::mime2repr[[mime]](obj)\n",
      " .     if (is.null(rpr)) \n",
      " .         return(NULL)\n",
      " .     prepare_content(is.raw(rpr), rpr)\n",
      " . }, error = error_handler), error = outer_handler)\n",
      "2. tryCatchList(expr, classes, parentenv, handlers)\n",
      "3. tryCatchOne(expr, names, parentenv, handlers[[1L]])\n",
      "4. doTryCatch(return(expr), name, parentenv, handler)\n",
      "5. withCallingHandlers({\n",
      " .     if (!mime %in% names(repr::mime2repr)) \n",
      " .         stop(\"No repr_* for mimetype \", mime, \" in repr::mime2repr\")\n",
      " .     rpr <- repr::mime2repr[[mime]](obj)\n",
      " .     if (is.null(rpr)) \n",
      " .         return(NULL)\n",
      " .     prepare_content(is.raw(rpr), rpr)\n",
      " . }, error = error_handler)\n",
      "6. repr::mime2repr[[mime]](obj)\n",
      "7. repr_text.default(obj)\n",
      "8. paste(capture.output(print(obj)), collapse = \"\\n\")\n",
      "9. capture.output(print(obj))\n",
      "10. withVisible(...elt(i))\n",
      "11. print(obj)\n",
      "12. print.ggplot(obj)\n",
      "13. ggplot_build(x)\n",
      "14. ggplot_build.ggplot(x)\n",
      "15. by_layer(function(l, d) l$compute_aesthetics(d, plot))\n",
      "16. f(l = layers[[i]], d = data[[i]])\n",
      "17. l$compute_aesthetics(d, plot)\n",
      "18. f(..., self = self)\n",
      "19. scales_add_defaults(plot$scales, data, aesthetics, plot$plot_env)\n",
      "20. lapply(aesthetics[new_aesthetics], eval_tidy, data = data)\n",
      "21. FUN(X[[i]], ...)\n"
     ]
    },
    {
     "data": {
      "image/png": "[encoded data removed]",
      "text/plain": [
       "plot without title"
      ]
     },
     "metadata": {
      "image/png": {
       "height": 900,
       "width": 900
      }
     },
     "output_type": "display_data"
    }
   ],
   "source": [
    "options(repr.plot.width = 15, repr.plot.height = 15) \n",
    "\n",
    "rk_plot <- new_obs_training |>\n",
    "    ggplot(aes(x = PTS, y = GS)) +\n",
    "    geom_point(alpha = 0.8) +\n",
    "    labs(x = \"Points\", y = \"GS\", color = \"Position\", title = \"Age vs Pos\") +\n",
    "    theme(text = element_text(size = 20))\n",
    "\n",
    "rk_plot"
   ]
  },
  {
   "cell_type": "markdown",
   "id": "eb59d1b6-88dd-4ca1-b3ec-227bafde692f",
   "metadata": {},
   "source": []
  },
  {
   "cell_type": "markdown",
   "id": "86d513d9-a2d5-4052-91a8-7e751b6f15c0",
   "metadata": {},
   "source": [
    "Rk, PTS, GS, FG%\n",
    "<font color = \"blue\"> Our research will be predicting whether an NBA player will make it to the All-Star Team based on their performance statisitics in the 2023 season. Based Based on 2021-2022 years dataset, mutate a new column all star(binary, yes or no), select three variables, make the predictive model, split to train-test dataset, verify accuracy, retest on 2023 data\n",
    "</font>"
   ]
  }
 ],
 "metadata": {
  "kernelspec": {
   "display_name": "R",
   "language": "R",
   "name": "ir"
  },
  "language_info": {
   "codemirror_mode": "r",
   "file_extension": ".r",
   "mimetype": "text/x-r-source",
   "name": "R",
   "pygments_lexer": "r",
   "version": "4.1.3"
  }
 },
 "nbformat": 4,
 "nbformat_minor": 5
}
