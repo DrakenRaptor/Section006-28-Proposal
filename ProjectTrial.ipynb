{
 "cells": [
  {
   "cell_type": "markdown",
   "id": "105f8161-6c3f-4757-b9aa-92247ae4ae9f",
   "metadata": {},
   "source": [
    "## Group Proposal"
   ]
  },
  {
   "cell_type": "markdown",
   "id": "148d65d0-43cc-459e-a7c1-4367a31b997c",
   "metadata": {},
   "source": [
    "**Predicting whether an NBA player will make it to the All-Star team based on their performance statistics in the 2023 season using the 2021-2022 seasons.**\n"
   ]
  },
  {
   "cell_type": "markdown",
   "id": "a5b9eb61-0541-4c5b-b8f8-13a27dfd3b87",
   "metadata": {},
   "source": [
    "For our group proposal, we want to predict which NBA players will make it to the All-Star selections based on their performance. The NBA (National Basketball Association) is a professional basketball league in North America that features 30 teams. Each team consists of players who compete against each other in regular season games, with the goal of making it to the playoffs and eventually winning the NBA championship.\n",
    "\n",
    "The NBA All-Star Game is an annual exhibition game that features the best players from each conference. The players are selected based on a combination of fan, player, and media voting. Being selected to the All-Star team is a significant accomplishment for NBA players and is often seen as a sign of their individual success and impact on the league.\n",
    "\n",
    "The NBA tracks various performance statistics for each player, including points per game, rebounds per game, assists per game, field goal percentage, and many others. These statistics are used to evaluate a player's performance and value to their team.\n",
    "\n",
    "In recent years, there has been an increasing interest in using machine learning and data analysis techniques to predict various outcomes in sports, including player performance, team success, and player awards such as All-Star selections. The NBA 2021-2022 per-game statistics dataset provides a rich source of data that can be used to build predictive models for various outcomes, including predicting whether a player will make it to the All-Star team in the 2023 season. \n"
   ]
  },
  {
   "cell_type": "code",
   "execution_count": 2,
   "id": "32dc24b4-c6d1-4ad2-8a04-fe4c729141b8",
   "metadata": {},
   "outputs": [
    {
     "name": "stderr",
     "output_type": "stream",
     "text": [
      "── \u001b[1mAttaching packages\u001b[22m ─────────────────────────────────────── tidyverse 1.3.1 ──\n",
      "\n",
      "\u001b[32m✔\u001b[39m \u001b[34mggplot2\u001b[39m 3.3.6     \u001b[32m✔\u001b[39m \u001b[34mpurrr  \u001b[39m 0.3.4\n",
      "\u001b[32m✔\u001b[39m \u001b[34mtibble \u001b[39m 3.1.7     \u001b[32m✔\u001b[39m \u001b[34mdplyr  \u001b[39m 1.0.9\n",
      "\u001b[32m✔\u001b[39m \u001b[34mtidyr  \u001b[39m 1.2.0     \u001b[32m✔\u001b[39m \u001b[34mstringr\u001b[39m 1.4.0\n",
      "\u001b[32m✔\u001b[39m \u001b[34mreadr  \u001b[39m 2.1.2     \u001b[32m✔\u001b[39m \u001b[34mforcats\u001b[39m 0.5.1\n",
      "\n",
      "── \u001b[1mConflicts\u001b[22m ────────────────────────────────────────── tidyverse_conflicts() ──\n",
      "\u001b[31m✖\u001b[39m \u001b[34mdplyr\u001b[39m::\u001b[32mfilter()\u001b[39m masks \u001b[34mstats\u001b[39m::filter()\n",
      "\u001b[31m✖\u001b[39m \u001b[34mdplyr\u001b[39m::\u001b[32mlag()\u001b[39m    masks \u001b[34mstats\u001b[39m::lag()\n",
      "\n",
      "── \u001b[1mAttaching packages\u001b[22m ────────────────────────────────────── tidymodels 1.0.0 ──\n",
      "\n",
      "\u001b[32m✔\u001b[39m \u001b[34mbroom       \u001b[39m 1.0.0     \u001b[32m✔\u001b[39m \u001b[34mrsample     \u001b[39m 1.0.0\n",
      "\u001b[32m✔\u001b[39m \u001b[34mdials       \u001b[39m 1.0.0     \u001b[32m✔\u001b[39m \u001b[34mtune        \u001b[39m 1.0.0\n",
      "\u001b[32m✔\u001b[39m \u001b[34minfer       \u001b[39m 1.0.2     \u001b[32m✔\u001b[39m \u001b[34mworkflows   \u001b[39m 1.0.0\n",
      "\u001b[32m✔\u001b[39m \u001b[34mmodeldata   \u001b[39m 1.0.0     \u001b[32m✔\u001b[39m \u001b[34mworkflowsets\u001b[39m 1.0.0\n",
      "\u001b[32m✔\u001b[39m \u001b[34mparsnip     \u001b[39m 1.0.0     \u001b[32m✔\u001b[39m \u001b[34myardstick   \u001b[39m 1.0.0\n",
      "\u001b[32m✔\u001b[39m \u001b[34mrecipes     \u001b[39m 1.0.1     \n",
      "\n",
      "── \u001b[1mConflicts\u001b[22m ───────────────────────────────────────── tidymodels_conflicts() ──\n",
      "\u001b[31m✖\u001b[39m \u001b[34mscales\u001b[39m::\u001b[32mdiscard()\u001b[39m masks \u001b[34mpurrr\u001b[39m::discard()\n",
      "\u001b[31m✖\u001b[39m \u001b[34mdplyr\u001b[39m::\u001b[32mfilter()\u001b[39m   masks \u001b[34mstats\u001b[39m::filter()\n",
      "\u001b[31m✖\u001b[39m \u001b[34mrecipes\u001b[39m::\u001b[32mfixed()\u001b[39m  masks \u001b[34mstringr\u001b[39m::fixed()\n",
      "\u001b[31m✖\u001b[39m \u001b[34mdplyr\u001b[39m::\u001b[32mlag()\u001b[39m      masks \u001b[34mstats\u001b[39m::lag()\n",
      "\u001b[31m✖\u001b[39m \u001b[34myardstick\u001b[39m::\u001b[32mspec()\u001b[39m masks \u001b[34mreadr\u001b[39m::spec()\n",
      "\u001b[31m✖\u001b[39m \u001b[34mrecipes\u001b[39m::\u001b[32mstep()\u001b[39m   masks \u001b[34mstats\u001b[39m::step()\n",
      "\u001b[34m•\u001b[39m Use suppressPackageStartupMessages() to eliminate package startup messages\n",
      "\n"
     ]
    }
   ],
   "source": [
    "### Loading of base packages manually \n",
    "\n",
    "library(datasets)   # loading of library datasets\n",
    "library(tidyverse)  # loading of tidyverse library\n",
    "library(tidymodels)\n",
    "library(tibble)\n",
    "library(httr)\n",
    "options(repr.matrix.max.rows = 6)\n",
    "# source('tests.R')"
   ]
  },
  {
   "cell_type": "code",
   "execution_count": 3,
   "id": "809f4fb4-2ec2-4f90-9899-3a6403c10daa",
   "metadata": {},
   "outputs": [
    {
     "name": "stderr",
     "output_type": "stream",
     "text": [
      "\u001b[1mRows: \u001b[22m\u001b[34m644\u001b[39m \u001b[1mColumns: \u001b[22m\u001b[34m31\u001b[39m\n",
      "\u001b[36m──\u001b[39m \u001b[1mColumn specification\u001b[22m \u001b[36m────────────────────────────────────────────────────────\u001b[39m\n",
      "\u001b[1mDelimiter:\u001b[22m \",\"\n",
      "\u001b[31mchr\u001b[39m  (4): Player, Pos, Tm, Player-additional\\\n",
      "\u001b[32mdbl\u001b[39m (27): Rk, Age, G, GS, MP, FG, FGA, FG%, 3P, 3PA, 3P%, 2P, 2PA, 2P%, eFG%...\n",
      "\n",
      "\u001b[36mℹ\u001b[39m Use `spec()` to retrieve the full column specification for this data.\n",
      "\u001b[36mℹ\u001b[39m Specify the column types or set `show_col_types = FALSE` to quiet this message.\n"
     ]
    },
    {
     "data": {
      "text/html": [
       "<table class=\"dataframe\">\n",
       "<caption>A spec_tbl_df: 644 × 31</caption>\n",
       "<thead>\n",
       "\t<tr><th scope=col>Rk</th><th scope=col>Player</th><th scope=col>Pos</th><th scope=col>Age</th><th scope=col>Tm</th><th scope=col>G</th><th scope=col>GS</th><th scope=col>MP</th><th scope=col>FG</th><th scope=col>FGA</th><th scope=col>⋯</th><th scope=col>ORB</th><th scope=col>DRB</th><th scope=col>TRB</th><th scope=col>AST</th><th scope=col>STL</th><th scope=col>BLK</th><th scope=col>TOV</th><th scope=col>PF</th><th scope=col>PTS</th><th scope=col>Player-additional\\</th></tr>\n",
       "\t<tr><th scope=col>&lt;dbl&gt;</th><th scope=col>&lt;chr&gt;</th><th scope=col>&lt;chr&gt;</th><th scope=col>&lt;dbl&gt;</th><th scope=col>&lt;chr&gt;</th><th scope=col>&lt;dbl&gt;</th><th scope=col>&lt;dbl&gt;</th><th scope=col>&lt;dbl&gt;</th><th scope=col>&lt;dbl&gt;</th><th scope=col>&lt;dbl&gt;</th><th scope=col>⋯</th><th scope=col>&lt;dbl&gt;</th><th scope=col>&lt;dbl&gt;</th><th scope=col>&lt;dbl&gt;</th><th scope=col>&lt;dbl&gt;</th><th scope=col>&lt;dbl&gt;</th><th scope=col>&lt;dbl&gt;</th><th scope=col>&lt;dbl&gt;</th><th scope=col>&lt;dbl&gt;</th><th scope=col>&lt;dbl&gt;</th><th scope=col>&lt;chr&gt;</th></tr>\n",
       "</thead>\n",
       "<tbody>\n",
       "\t<tr><td>1</td><td>Precious Achiuwa</td><td>C</td><td>23</td><td>TOR</td><td>42</td><td>11</td><td> 947</td><td>156</td><td>325</td><td>⋯</td><td> 81</td><td>184</td><td>265</td><td> 42</td><td>26</td><td>26</td><td> 49</td><td> 85</td><td> 408</td><td>achiupr01\\</td></tr>\n",
       "\t<tr><td>2</td><td>Steven Adams    </td><td>C</td><td>29</td><td>MEM</td><td>42</td><td>42</td><td>1133</td><td>157</td><td>263</td><td>⋯</td><td>214</td><td>271</td><td>485</td><td> 97</td><td>36</td><td>46</td><td> 79</td><td> 98</td><td> 361</td><td>adamsst01\\</td></tr>\n",
       "\t<tr><td>3</td><td>Bam Adebayo     </td><td>C</td><td>25</td><td>MIA</td><td>61</td><td>61</td><td>2137</td><td>509</td><td>943</td><td>⋯</td><td>154</td><td>434</td><td>588</td><td>200</td><td>75</td><td>50</td><td>153</td><td>172</td><td>1295</td><td>adebaba01\\</td></tr>\n",
       "\t<tr><td>⋮</td><td>⋮</td><td>⋮</td><td>⋮</td><td>⋮</td><td>⋮</td><td>⋮</td><td>⋮</td><td>⋮</td><td>⋮</td><td>⋱</td><td>⋮</td><td>⋮</td><td>⋮</td><td>⋮</td><td>⋮</td><td>⋮</td><td>⋮</td><td>⋮</td><td>⋮</td><td>⋮</td></tr>\n",
       "\t<tr><td>514</td><td>Trae Young </td><td>PG</td><td>24</td><td>ATL</td><td>58</td><td>58</td><td>2037</td><td>486</td><td>1137</td><td>⋯</td><td> 44</td><td>129</td><td>173</td><td>585</td><td>65</td><td> 9</td><td>237</td><td> 86</td><td>1545</td><td>youngtr01\\</td></tr>\n",
       "\t<tr><td>515</td><td>Cody Zeller</td><td>C </td><td>30</td><td>MIA</td><td> 7</td><td> 0</td><td>  96</td><td> 14</td><td>  22</td><td>⋯</td><td> 11</td><td>  8</td><td> 19</td><td>  5</td><td> 1</td><td> 3</td><td>  5</td><td> 17</td><td>  42</td><td>zelleco01\\</td></tr>\n",
       "\t<tr><td>516</td><td>Ivica Zubac</td><td>C </td><td>25</td><td>LAC</td><td>61</td><td>61</td><td>1780</td><td>245</td><td> 396</td><td>⋯</td><td>203</td><td>413</td><td>616</td><td> 65</td><td>24</td><td>81</td><td>104</td><td>179</td><td> 620</td><td>zubaciv01} </td></tr>\n",
       "</tbody>\n",
       "</table>\n"
      ],
      "text/latex": [
       "A spec\\_tbl\\_df: 644 × 31\n",
       "\\begin{tabular}{lllllllllllllllllllll}\n",
       " Rk & Player & Pos & Age & Tm & G & GS & MP & FG & FGA & ⋯ & ORB & DRB & TRB & AST & STL & BLK & TOV & PF & PTS & Player-additional\\textbackslash{}\\\\\n",
       " <dbl> & <chr> & <chr> & <dbl> & <chr> & <dbl> & <dbl> & <dbl> & <dbl> & <dbl> & ⋯ & <dbl> & <dbl> & <dbl> & <dbl> & <dbl> & <dbl> & <dbl> & <dbl> & <dbl> & <chr>\\\\\n",
       "\\hline\n",
       "\t 1 & Precious Achiuwa & C & 23 & TOR & 42 & 11 &  947 & 156 & 325 & ⋯ &  81 & 184 & 265 &  42 & 26 & 26 &  49 &  85 &  408 & achiupr01\\textbackslash{}\\\\\n",
       "\t 2 & Steven Adams     & C & 29 & MEM & 42 & 42 & 1133 & 157 & 263 & ⋯ & 214 & 271 & 485 &  97 & 36 & 46 &  79 &  98 &  361 & adamsst01\\textbackslash{}\\\\\n",
       "\t 3 & Bam Adebayo      & C & 25 & MIA & 61 & 61 & 2137 & 509 & 943 & ⋯ & 154 & 434 & 588 & 200 & 75 & 50 & 153 & 172 & 1295 & adebaba01\\textbackslash{}\\\\\n",
       "\t ⋮ & ⋮ & ⋮ & ⋮ & ⋮ & ⋮ & ⋮ & ⋮ & ⋮ & ⋮ & ⋱ & ⋮ & ⋮ & ⋮ & ⋮ & ⋮ & ⋮ & ⋮ & ⋮ & ⋮ & ⋮\\\\\n",
       "\t 514 & Trae Young  & PG & 24 & ATL & 58 & 58 & 2037 & 486 & 1137 & ⋯ &  44 & 129 & 173 & 585 & 65 &  9 & 237 &  86 & 1545 & youngtr01\\textbackslash{}\\\\\n",
       "\t 515 & Cody Zeller & C  & 30 & MIA &  7 &  0 &   96 &  14 &   22 & ⋯ &  11 &   8 &  19 &   5 &  1 &  3 &   5 &  17 &   42 & zelleco01\\textbackslash{}\\\\\n",
       "\t 516 & Ivica Zubac & C  & 25 & LAC & 61 & 61 & 1780 & 245 &  396 & ⋯ & 203 & 413 & 616 &  65 & 24 & 81 & 104 & 179 &  620 & zubaciv01\\} \\\\\n",
       "\\end{tabular}\n"
      ],
      "text/markdown": [
       "\n",
       "A spec_tbl_df: 644 × 31\n",
       "\n",
       "| Rk &lt;dbl&gt; | Player &lt;chr&gt; | Pos &lt;chr&gt; | Age &lt;dbl&gt; | Tm &lt;chr&gt; | G &lt;dbl&gt; | GS &lt;dbl&gt; | MP &lt;dbl&gt; | FG &lt;dbl&gt; | FGA &lt;dbl&gt; | ⋯ ⋯ | ORB &lt;dbl&gt; | DRB &lt;dbl&gt; | TRB &lt;dbl&gt; | AST &lt;dbl&gt; | STL &lt;dbl&gt; | BLK &lt;dbl&gt; | TOV &lt;dbl&gt; | PF &lt;dbl&gt; | PTS &lt;dbl&gt; | Player-additional\\ &lt;chr&gt; |\n",
       "|---|---|---|---|---|---|---|---|---|---|---|---|---|---|---|---|---|---|---|---|---|\n",
       "| 1 | Precious Achiuwa | C | 23 | TOR | 42 | 11 |  947 | 156 | 325 | ⋯ |  81 | 184 | 265 |  42 | 26 | 26 |  49 |  85 |  408 | achiupr01\\ |\n",
       "| 2 | Steven Adams     | C | 29 | MEM | 42 | 42 | 1133 | 157 | 263 | ⋯ | 214 | 271 | 485 |  97 | 36 | 46 |  79 |  98 |  361 | adamsst01\\ |\n",
       "| 3 | Bam Adebayo      | C | 25 | MIA | 61 | 61 | 2137 | 509 | 943 | ⋯ | 154 | 434 | 588 | 200 | 75 | 50 | 153 | 172 | 1295 | adebaba01\\ |\n",
       "| ⋮ | ⋮ | ⋮ | ⋮ | ⋮ | ⋮ | ⋮ | ⋮ | ⋮ | ⋮ | ⋱ | ⋮ | ⋮ | ⋮ | ⋮ | ⋮ | ⋮ | ⋮ | ⋮ | ⋮ | ⋮ |\n",
       "| 514 | Trae Young  | PG | 24 | ATL | 58 | 58 | 2037 | 486 | 1137 | ⋯ |  44 | 129 | 173 | 585 | 65 |  9 | 237 |  86 | 1545 | youngtr01\\ |\n",
       "| 515 | Cody Zeller | C  | 30 | MIA |  7 |  0 |   96 |  14 |   22 | ⋯ |  11 |   8 |  19 |   5 |  1 |  3 |   5 |  17 |   42 | zelleco01\\ |\n",
       "| 516 | Ivica Zubac | C  | 25 | LAC | 61 | 61 | 1780 | 245 |  396 | ⋯ | 203 | 413 | 616 |  65 | 24 | 81 | 104 | 179 |  620 | zubaciv01}  |\n",
       "\n"
      ],
      "text/plain": [
       "    Rk  Player           Pos Age Tm  G  GS MP   FG  FGA  ⋯ ORB DRB TRB AST STL\n",
       "1   1   Precious Achiuwa C   23  TOR 42 11  947 156 325  ⋯  81 184 265  42 26 \n",
       "2   2   Steven Adams     C   29  MEM 42 42 1133 157 263  ⋯ 214 271 485  97 36 \n",
       "3   3   Bam Adebayo      C   25  MIA 61 61 2137 509 943  ⋯ 154 434 588 200 75 \n",
       "⋮   ⋮   ⋮                ⋮   ⋮   ⋮   ⋮  ⋮  ⋮    ⋮   ⋮    ⋱ ⋮   ⋮   ⋮   ⋮   ⋮  \n",
       "642 514 Trae Young       PG  24  ATL 58 58 2037 486 1137 ⋯  44 129 173 585 65 \n",
       "643 515 Cody Zeller      C   30  MIA  7  0   96  14   22 ⋯  11   8  19   5  1 \n",
       "644 516 Ivica Zubac      C   25  LAC 61 61 1780 245  396 ⋯ 203 413 616  65 24 \n",
       "    BLK TOV PF  PTS  Player-additional\\\\\n",
       "1   26   49  85  408 achiupr01\\\\        \n",
       "2   46   79  98  361 adamsst01\\\\        \n",
       "3   50  153 172 1295 adebaba01\\\\        \n",
       "⋮   ⋮   ⋮   ⋮   ⋮    ⋮                  \n",
       "642  9  237  86 1545 youngtr01\\\\        \n",
       "643  3    5  17   42 zelleco01\\\\        \n",
       "644 81  104 179  620 zubaciv01}         "
      ]
     },
     "metadata": {},
     "output_type": "display_data"
    },
    {
     "name": "stderr",
     "output_type": "stream",
     "text": [
      "\u001b[1mRows: \u001b[22m\u001b[34m813\u001b[39m \u001b[1mColumns: \u001b[22m\u001b[34m31\u001b[39m\n",
      "\u001b[36m──\u001b[39m \u001b[1mColumn specification\u001b[22m \u001b[36m────────────────────────────────────────────────────────\u001b[39m\n",
      "\u001b[1mDelimiter:\u001b[22m \",\"\n",
      "\u001b[31mchr\u001b[39m  (5): Sn, Player, Pos, Tm, Player-additional\\\n",
      "\u001b[32mdbl\u001b[39m (26): Age, G, GS, MP, FG, FGA, FG%, 3P, 3PA, 3P%, 2P, 2PA, 2P%, eFG%, FT...\n",
      "\n",
      "\u001b[36mℹ\u001b[39m Use `spec()` to retrieve the full column specification for this data.\n",
      "\u001b[36mℹ\u001b[39m Specify the column types or set `show_col_types = FALSE` to quiet this message.\n"
     ]
    },
    {
     "data": {
      "text/html": [
       "<table class=\"dataframe\">\n",
       "<caption>A spec_tbl_df: 813 × 31</caption>\n",
       "<thead>\n",
       "\t<tr><th scope=col>Sn</th><th scope=col>Player</th><th scope=col>Pos</th><th scope=col>Age</th><th scope=col>Tm</th><th scope=col>G</th><th scope=col>GS</th><th scope=col>MP</th><th scope=col>FG</th><th scope=col>FGA</th><th scope=col>⋯</th><th scope=col>ORB</th><th scope=col>DRB</th><th scope=col>TRB</th><th scope=col>AST</th><th scope=col>STL</th><th scope=col>BLK</th><th scope=col>TOV</th><th scope=col>PF</th><th scope=col>PTS</th><th scope=col>Player-additional\\</th></tr>\n",
       "\t<tr><th scope=col>&lt;chr&gt;</th><th scope=col>&lt;chr&gt;</th><th scope=col>&lt;chr&gt;</th><th scope=col>&lt;dbl&gt;</th><th scope=col>&lt;chr&gt;</th><th scope=col>&lt;dbl&gt;</th><th scope=col>&lt;dbl&gt;</th><th scope=col>&lt;dbl&gt;</th><th scope=col>&lt;dbl&gt;</th><th scope=col>&lt;dbl&gt;</th><th scope=col>⋯</th><th scope=col>&lt;dbl&gt;</th><th scope=col>&lt;dbl&gt;</th><th scope=col>&lt;dbl&gt;</th><th scope=col>&lt;dbl&gt;</th><th scope=col>&lt;dbl&gt;</th><th scope=col>&lt;dbl&gt;</th><th scope=col>&lt;dbl&gt;</th><th scope=col>&lt;dbl&gt;</th><th scope=col>&lt;dbl&gt;</th><th scope=col>&lt;chr&gt;</th></tr>\n",
       "</thead>\n",
       "<tbody>\n",
       "\t<tr><td>1</td><td>Precious Achiuwa</td><td>C</td><td>22</td><td>TOR</td><td>73</td><td>28</td><td>1725</td><td>265</td><td>603</td><td>⋯</td><td>146</td><td>327</td><td>473</td><td> 82</td><td>37</td><td>41</td><td> 84</td><td>151</td><td> 664</td><td>achiupr01\\</td></tr>\n",
       "\t<tr><td>2</td><td>Steven Adams    </td><td>C</td><td>28</td><td>MEM</td><td>76</td><td>75</td><td>1999</td><td>210</td><td>384</td><td>⋯</td><td>349</td><td>411</td><td>760</td><td>256</td><td>65</td><td>60</td><td>115</td><td>153</td><td> 528</td><td>adamsst01\\</td></tr>\n",
       "\t<tr><td>3</td><td>Bam Adebayo     </td><td>C</td><td>24</td><td>MIA</td><td>56</td><td>56</td><td>1825</td><td>406</td><td>729</td><td>⋯</td><td>137</td><td>427</td><td>564</td><td>190</td><td>80</td><td>44</td><td>148</td><td>171</td><td>1068</td><td>adebaba01\\</td></tr>\n",
       "\t<tr><td>⋮</td><td>⋮</td><td>⋮</td><td>⋮</td><td>⋮</td><td>⋮</td><td>⋮</td><td>⋮</td><td>⋮</td><td>⋮</td><td>⋱</td><td>⋮</td><td>⋮</td><td>⋮</td><td>⋮</td><td>⋮</td><td>⋮</td><td>⋮</td><td>⋮</td><td>⋮</td><td>⋮</td></tr>\n",
       "\t<tr><td>604</td><td>Cody Zeller</td><td>C </td><td>29</td><td>POR</td><td>27</td><td> 0</td><td> 355</td><td> 51</td><td> 90</td><td>⋯</td><td> 50</td><td> 75</td><td>125</td><td> 22</td><td> 8</td><td> 6</td><td> 19</td><td> 56</td><td>140</td><td>zelleco01\\</td></tr>\n",
       "\t<tr><td>605</td><td>Ivica Zubac</td><td>C </td><td>24</td><td>LAC</td><td>76</td><td>76</td><td>1852</td><td>310</td><td>495</td><td>⋯</td><td>217</td><td>427</td><td>644</td><td>120</td><td>36</td><td>77</td><td>114</td><td>203</td><td>785</td><td>zubaciv01\\</td></tr>\n",
       "\t<tr><td>}  </td><td>NA         </td><td>NA</td><td>NA</td><td>NA </td><td>NA</td><td>NA</td><td>  NA</td><td> NA</td><td> NA</td><td>⋯</td><td> NA</td><td> NA</td><td> NA</td><td> NA</td><td>NA</td><td>NA</td><td> NA</td><td> NA</td><td> NA</td><td>NA         </td></tr>\n",
       "</tbody>\n",
       "</table>\n"
      ],
      "text/latex": [
       "A spec\\_tbl\\_df: 813 × 31\n",
       "\\begin{tabular}{lllllllllllllllllllll}\n",
       " Sn & Player & Pos & Age & Tm & G & GS & MP & FG & FGA & ⋯ & ORB & DRB & TRB & AST & STL & BLK & TOV & PF & PTS & Player-additional\\textbackslash{}\\\\\n",
       " <chr> & <chr> & <chr> & <dbl> & <chr> & <dbl> & <dbl> & <dbl> & <dbl> & <dbl> & ⋯ & <dbl> & <dbl> & <dbl> & <dbl> & <dbl> & <dbl> & <dbl> & <dbl> & <dbl> & <chr>\\\\\n",
       "\\hline\n",
       "\t 1 & Precious Achiuwa & C & 22 & TOR & 73 & 28 & 1725 & 265 & 603 & ⋯ & 146 & 327 & 473 &  82 & 37 & 41 &  84 & 151 &  664 & achiupr01\\textbackslash{}\\\\\n",
       "\t 2 & Steven Adams     & C & 28 & MEM & 76 & 75 & 1999 & 210 & 384 & ⋯ & 349 & 411 & 760 & 256 & 65 & 60 & 115 & 153 &  528 & adamsst01\\textbackslash{}\\\\\n",
       "\t 3 & Bam Adebayo      & C & 24 & MIA & 56 & 56 & 1825 & 406 & 729 & ⋯ & 137 & 427 & 564 & 190 & 80 & 44 & 148 & 171 & 1068 & adebaba01\\textbackslash{}\\\\\n",
       "\t ⋮ & ⋮ & ⋮ & ⋮ & ⋮ & ⋮ & ⋮ & ⋮ & ⋮ & ⋮ & ⋱ & ⋮ & ⋮ & ⋮ & ⋮ & ⋮ & ⋮ & ⋮ & ⋮ & ⋮ & ⋮\\\\\n",
       "\t 604 & Cody Zeller & C  & 29 & POR & 27 &  0 &  355 &  51 &  90 & ⋯ &  50 &  75 & 125 &  22 &  8 &  6 &  19 &  56 & 140 & zelleco01\\textbackslash{}\\\\\n",
       "\t 605 & Ivica Zubac & C  & 24 & LAC & 76 & 76 & 1852 & 310 & 495 & ⋯ & 217 & 427 & 644 & 120 & 36 & 77 & 114 & 203 & 785 & zubaciv01\\textbackslash{}\\\\\n",
       "\t \\}   & NA          & NA & NA & NA  & NA & NA &   NA &  NA &  NA & ⋯ &  NA &  NA &  NA &  NA & NA & NA &  NA &  NA &  NA & NA         \\\\\n",
       "\\end{tabular}\n"
      ],
      "text/markdown": [
       "\n",
       "A spec_tbl_df: 813 × 31\n",
       "\n",
       "| Sn &lt;chr&gt; | Player &lt;chr&gt; | Pos &lt;chr&gt; | Age &lt;dbl&gt; | Tm &lt;chr&gt; | G &lt;dbl&gt; | GS &lt;dbl&gt; | MP &lt;dbl&gt; | FG &lt;dbl&gt; | FGA &lt;dbl&gt; | ⋯ ⋯ | ORB &lt;dbl&gt; | DRB &lt;dbl&gt; | TRB &lt;dbl&gt; | AST &lt;dbl&gt; | STL &lt;dbl&gt; | BLK &lt;dbl&gt; | TOV &lt;dbl&gt; | PF &lt;dbl&gt; | PTS &lt;dbl&gt; | Player-additional\\ &lt;chr&gt; |\n",
       "|---|---|---|---|---|---|---|---|---|---|---|---|---|---|---|---|---|---|---|---|---|\n",
       "| 1 | Precious Achiuwa | C | 22 | TOR | 73 | 28 | 1725 | 265 | 603 | ⋯ | 146 | 327 | 473 |  82 | 37 | 41 |  84 | 151 |  664 | achiupr01\\ |\n",
       "| 2 | Steven Adams     | C | 28 | MEM | 76 | 75 | 1999 | 210 | 384 | ⋯ | 349 | 411 | 760 | 256 | 65 | 60 | 115 | 153 |  528 | adamsst01\\ |\n",
       "| 3 | Bam Adebayo      | C | 24 | MIA | 56 | 56 | 1825 | 406 | 729 | ⋯ | 137 | 427 | 564 | 190 | 80 | 44 | 148 | 171 | 1068 | adebaba01\\ |\n",
       "| ⋮ | ⋮ | ⋮ | ⋮ | ⋮ | ⋮ | ⋮ | ⋮ | ⋮ | ⋮ | ⋱ | ⋮ | ⋮ | ⋮ | ⋮ | ⋮ | ⋮ | ⋮ | ⋮ | ⋮ | ⋮ |\n",
       "| 604 | Cody Zeller | C  | 29 | POR | 27 |  0 |  355 |  51 |  90 | ⋯ |  50 |  75 | 125 |  22 |  8 |  6 |  19 |  56 | 140 | zelleco01\\ |\n",
       "| 605 | Ivica Zubac | C  | 24 | LAC | 76 | 76 | 1852 | 310 | 495 | ⋯ | 217 | 427 | 644 | 120 | 36 | 77 | 114 | 203 | 785 | zubaciv01\\ |\n",
       "| }   | NA          | NA | NA | NA  | NA | NA |   NA |  NA |  NA | ⋯ |  NA |  NA |  NA |  NA | NA | NA |  NA |  NA |  NA | NA          |\n",
       "\n"
      ],
      "text/plain": [
       "    Sn  Player           Pos Age Tm  G  GS MP   FG  FGA ⋯ ORB DRB TRB AST STL\n",
       "1   1   Precious Achiuwa C   22  TOR 73 28 1725 265 603 ⋯ 146 327 473  82 37 \n",
       "2   2   Steven Adams     C   28  MEM 76 75 1999 210 384 ⋯ 349 411 760 256 65 \n",
       "3   3   Bam Adebayo      C   24  MIA 56 56 1825 406 729 ⋯ 137 427 564 190 80 \n",
       "⋮   ⋮   ⋮                ⋮   ⋮   ⋮   ⋮  ⋮  ⋮    ⋮   ⋮   ⋱ ⋮   ⋮   ⋮   ⋮   ⋮  \n",
       "811 604 Cody Zeller      C   29  POR 27  0  355  51  90 ⋯  50  75 125  22  8 \n",
       "812 605 Ivica Zubac      C   24  LAC 76 76 1852 310 495 ⋯ 217 427 644 120 36 \n",
       "813 }   NA               NA  NA  NA  NA NA   NA  NA  NA ⋯  NA  NA  NA  NA NA \n",
       "    BLK TOV PF  PTS  Player-additional\\\\\n",
       "1   41   84 151  664 achiupr01\\\\        \n",
       "2   60  115 153  528 adamsst01\\\\        \n",
       "3   44  148 171 1068 adebaba01\\\\        \n",
       "⋮   ⋮   ⋮   ⋮   ⋮    ⋮                  \n",
       "811  6   19  56 140  zelleco01\\\\        \n",
       "812 77  114 203 785  zubaciv01\\\\        \n",
       "813 NA   NA  NA  NA  NA                 "
      ]
     },
     "metadata": {},
     "output_type": "display_data"
    }
   ],
   "source": [
    "# Read the data from website\n",
    "# URL of the team statistics page for the 2021-2022 NBA season and 2022-2023 NBA season.\n",
    "# data pulled from: url1 <- \"https://www.basketball-reference.com/leagues/NBA_2023_per_game.html\"\n",
    "#                   url2 <- \"https://www.basketball-reference.com/leagues/NBA_2022_per_game.html\"\n",
    "basket_2023 <- read_csv(\"https://raw.githubusercontent.com/DrakenRaptor/Section006-28-Proposal/main/NBA%202022-2023(1).csv\")\n",
    "basket_2023\n",
    "\n",
    "basket_2022 <- read_csv(\"https://raw.githubusercontent.com/DrakenRaptor/Section006-28-Proposal/main/2021-2022%20NBA.csv\")\n",
    "basket_2022"
   ]
  },
  {
   "cell_type": "code",
   "execution_count": 6,
   "id": "e76622c8-c363-49c5-8ae0-38c6ca28b51f",
   "metadata": {},
   "outputs": [
    {
     "data": {
      "text/html": [
       "<table class=\"dataframe\">\n",
       "<caption>A tibble: 644 × 4</caption>\n",
       "<thead>\n",
       "\t<tr><th scope=col>Player</th><th scope=col>GS</th><th scope=col>eFG%</th><th scope=col>PTS</th></tr>\n",
       "\t<tr><th scope=col>&lt;chr&gt;</th><th scope=col>&lt;dbl&gt;</th><th scope=col>&lt;dbl&gt;</th><th scope=col>&lt;dbl&gt;</th></tr>\n",
       "</thead>\n",
       "<tbody>\n",
       "\t<tr><td>Precious Achiuwa</td><td>11</td><td>0.512</td><td> 408</td></tr>\n",
       "\t<tr><td>Steven Adams    </td><td>42</td><td>0.597</td><td> 361</td></tr>\n",
       "\t<tr><td>Bam Adebayo     </td><td>61</td><td>0.540</td><td>1295</td></tr>\n",
       "\t<tr><td>⋮</td><td>⋮</td><td>⋮</td><td>⋮</td></tr>\n",
       "\t<tr><td>Trae Young </td><td>58</td><td>0.482</td><td>1545</td></tr>\n",
       "\t<tr><td>Cody Zeller</td><td> 0</td><td>0.636</td><td>  42</td></tr>\n",
       "\t<tr><td>Ivica Zubac</td><td>61</td><td>0.619</td><td> 620</td></tr>\n",
       "</tbody>\n",
       "</table>\n"
      ],
      "text/latex": [
       "A tibble: 644 × 4\n",
       "\\begin{tabular}{llll}\n",
       " Player & GS & eFG\\% & PTS\\\\\n",
       " <chr> & <dbl> & <dbl> & <dbl>\\\\\n",
       "\\hline\n",
       "\t Precious Achiuwa & 11 & 0.512 &  408\\\\\n",
       "\t Steven Adams     & 42 & 0.597 &  361\\\\\n",
       "\t Bam Adebayo      & 61 & 0.540 & 1295\\\\\n",
       "\t ⋮ & ⋮ & ⋮ & ⋮\\\\\n",
       "\t Trae Young  & 58 & 0.482 & 1545\\\\\n",
       "\t Cody Zeller &  0 & 0.636 &   42\\\\\n",
       "\t Ivica Zubac & 61 & 0.619 &  620\\\\\n",
       "\\end{tabular}\n"
      ],
      "text/markdown": [
       "\n",
       "A tibble: 644 × 4\n",
       "\n",
       "| Player &lt;chr&gt; | GS &lt;dbl&gt; | eFG% &lt;dbl&gt; | PTS &lt;dbl&gt; |\n",
       "|---|---|---|---|\n",
       "| Precious Achiuwa | 11 | 0.512 |  408 |\n",
       "| Steven Adams     | 42 | 0.597 |  361 |\n",
       "| Bam Adebayo      | 61 | 0.540 | 1295 |\n",
       "| ⋮ | ⋮ | ⋮ | ⋮ |\n",
       "| Trae Young  | 58 | 0.482 | 1545 |\n",
       "| Cody Zeller |  0 | 0.636 |   42 |\n",
       "| Ivica Zubac | 61 | 0.619 |  620 |\n",
       "\n"
      ],
      "text/plain": [
       "    Player           GS eFG%  PTS \n",
       "1   Precious Achiuwa 11 0.512  408\n",
       "2   Steven Adams     42 0.597  361\n",
       "3   Bam Adebayo      61 0.540 1295\n",
       "⋮   ⋮                ⋮  ⋮     ⋮   \n",
       "642 Trae Young       58 0.482 1545\n",
       "643 Cody Zeller       0 0.636   42\n",
       "644 Ivica Zubac      61 0.619  620"
      ]
     },
     "metadata": {},
     "output_type": "display_data"
    },
    {
     "data": {
      "text/html": [
       "<table class=\"dataframe\">\n",
       "<caption>A tibble: 813 × 4</caption>\n",
       "<thead>\n",
       "\t<tr><th scope=col>Player</th><th scope=col>GS</th><th scope=col>eFG%</th><th scope=col>PTS</th></tr>\n",
       "\t<tr><th scope=col>&lt;chr&gt;</th><th scope=col>&lt;dbl&gt;</th><th scope=col>&lt;dbl&gt;</th><th scope=col>&lt;dbl&gt;</th></tr>\n",
       "</thead>\n",
       "<tbody>\n",
       "\t<tr><td>Precious Achiuwa</td><td>28</td><td>0.486</td><td> 664</td></tr>\n",
       "\t<tr><td>Steven Adams    </td><td>75</td><td>0.547</td><td> 528</td></tr>\n",
       "\t<tr><td>Bam Adebayo     </td><td>56</td><td>0.557</td><td>1068</td></tr>\n",
       "\t<tr><td>⋮</td><td>⋮</td><td>⋮</td><td>⋮</td></tr>\n",
       "\t<tr><td>Cody Zeller</td><td> 0</td><td>0.567</td><td>140</td></tr>\n",
       "\t<tr><td>Ivica Zubac</td><td>76</td><td>0.626</td><td>785</td></tr>\n",
       "\t<tr><td>NA         </td><td>NA</td><td>   NA</td><td> NA</td></tr>\n",
       "</tbody>\n",
       "</table>\n"
      ],
      "text/latex": [
       "A tibble: 813 × 4\n",
       "\\begin{tabular}{llll}\n",
       " Player & GS & eFG\\% & PTS\\\\\n",
       " <chr> & <dbl> & <dbl> & <dbl>\\\\\n",
       "\\hline\n",
       "\t Precious Achiuwa & 28 & 0.486 &  664\\\\\n",
       "\t Steven Adams     & 75 & 0.547 &  528\\\\\n",
       "\t Bam Adebayo      & 56 & 0.557 & 1068\\\\\n",
       "\t ⋮ & ⋮ & ⋮ & ⋮\\\\\n",
       "\t Cody Zeller &  0 & 0.567 & 140\\\\\n",
       "\t Ivica Zubac & 76 & 0.626 & 785\\\\\n",
       "\t NA          & NA &    NA &  NA\\\\\n",
       "\\end{tabular}\n"
      ],
      "text/markdown": [
       "\n",
       "A tibble: 813 × 4\n",
       "\n",
       "| Player &lt;chr&gt; | GS &lt;dbl&gt; | eFG% &lt;dbl&gt; | PTS &lt;dbl&gt; |\n",
       "|---|---|---|---|\n",
       "| Precious Achiuwa | 28 | 0.486 |  664 |\n",
       "| Steven Adams     | 75 | 0.547 |  528 |\n",
       "| Bam Adebayo      | 56 | 0.557 | 1068 |\n",
       "| ⋮ | ⋮ | ⋮ | ⋮ |\n",
       "| Cody Zeller |  0 | 0.567 | 140 |\n",
       "| Ivica Zubac | 76 | 0.626 | 785 |\n",
       "| NA          | NA |    NA |  NA |\n",
       "\n"
      ],
      "text/plain": [
       "    Player           GS eFG%  PTS \n",
       "1   Precious Achiuwa 28 0.486  664\n",
       "2   Steven Adams     75 0.547  528\n",
       "3   Bam Adebayo      56 0.557 1068\n",
       "⋮   ⋮                ⋮  ⋮     ⋮   \n",
       "811 Cody Zeller       0 0.567 140 \n",
       "812 Ivica Zubac      76 0.626 785 \n",
       "813 NA               NA    NA  NA "
      ]
     },
     "metadata": {},
     "output_type": "display_data"
    }
   ],
   "source": [
    "# Select the GS(Game Started), eFG%(Effective Field Goal Precentage), and PTS (Points Per Game) to be the three variables we will focused on in this assignment\n",
    "selected_2023 <- basket_2023 |>\n",
    "                 select(Player, GS, \"eFG%\", PTS) \n",
    "selected_2023\n",
    "\n",
    "selected_2022 <- basket_2022 |>\n",
    "                 select(Player, GS, \"eFG%\", PTS) \n",
    "selected_2022"
   ]
  },
  {
   "cell_type": "markdown",
   "id": "589ea797-fd28-4870-8dfa-b1f1bc81d719",
   "metadata": {},
   "source": [
    "**Given that the datsets consists of various rows, there are various data that are not require for our analysis. Hence, we used select functions in R, to manipulate to give us 4 columns that we required: the Player name, GS, eFG%, Points as shown above.**\n",
    "\n",
    "*The code as shown in the next cell was manually created to filter the names.* "
   ]
  },
  {
   "cell_type": "code",
   "execution_count": 7,
   "id": "183fd4ec-c23f-40e5-9b63-99dcde19b193",
   "metadata": {},
   "outputs": [
    {
     "data": {
      "text/html": [
       "<style>\n",
       ".list-inline {list-style: none; margin:0; padding: 0}\n",
       ".list-inline>li {display: inline-block}\n",
       ".list-inline>li:not(:last-child)::after {content: \"\\00b7\"; padding: 0 .5ex}\n",
       "</style>\n",
       "<ol class=list-inline><li>'Kyrie lrving'</li><li>'Donovan Mitchell'</li><li>'Giannis Antetokounmpo'</li><li>'Kevin Durant'</li><li>'Jayson Tatum'</li><li>'Jaylen Brown'</li><li>'DeMar DeRozan'</li><li>'Tyrese Haliburton'</li><li>'Jrue Holiday'</li><li>'Julius Randle'</li><li>'Bam Adebayo'</li><li>'Joel Embiid'</li><li>'Pascal Siakam'</li><li>'Stephen Curry'</li><li>'Luka Dončić'</li><li>'Nikola Jokić'</li><li>'Lebron James'</li><li>'Zion Williamson'</li><li>'Shai Gilgeous-Alexander'</li><li>'Damian Lillard'</li><li>'Ja Morant'</li><li>'Paul George'</li><li>'Jaren Jackson Jr.'</li><li>'Lauri Markkanen'</li><li>'Domantas Sabonis'</li><li>'Anthony Edwards'</li><li>'De\\'Aaron Fox'</li></ol>\n"
      ],
      "text/latex": [
       "\\begin{enumerate*}\n",
       "\\item 'Kyrie lrving'\n",
       "\\item 'Donovan Mitchell'\n",
       "\\item 'Giannis Antetokounmpo'\n",
       "\\item 'Kevin Durant'\n",
       "\\item 'Jayson Tatum'\n",
       "\\item 'Jaylen Brown'\n",
       "\\item 'DeMar DeRozan'\n",
       "\\item 'Tyrese Haliburton'\n",
       "\\item 'Jrue Holiday'\n",
       "\\item 'Julius Randle'\n",
       "\\item 'Bam Adebayo'\n",
       "\\item 'Joel Embiid'\n",
       "\\item 'Pascal Siakam'\n",
       "\\item 'Stephen Curry'\n",
       "\\item 'Luka Dončić'\n",
       "\\item 'Nikola Jokić'\n",
       "\\item 'Lebron James'\n",
       "\\item 'Zion Williamson'\n",
       "\\item 'Shai Gilgeous-Alexander'\n",
       "\\item 'Damian Lillard'\n",
       "\\item 'Ja Morant'\n",
       "\\item 'Paul George'\n",
       "\\item 'Jaren Jackson Jr.'\n",
       "\\item 'Lauri Markkanen'\n",
       "\\item 'Domantas Sabonis'\n",
       "\\item 'Anthony Edwards'\n",
       "\\item 'De\\textbackslash{}'Aaron Fox'\n",
       "\\end{enumerate*}\n"
      ],
      "text/markdown": [
       "1. 'Kyrie lrving'\n",
       "2. 'Donovan Mitchell'\n",
       "3. 'Giannis Antetokounmpo'\n",
       "4. 'Kevin Durant'\n",
       "5. 'Jayson Tatum'\n",
       "6. 'Jaylen Brown'\n",
       "7. 'DeMar DeRozan'\n",
       "8. 'Tyrese Haliburton'\n",
       "9. 'Jrue Holiday'\n",
       "10. 'Julius Randle'\n",
       "11. 'Bam Adebayo'\n",
       "12. 'Joel Embiid'\n",
       "13. 'Pascal Siakam'\n",
       "14. 'Stephen Curry'\n",
       "15. 'Luka Dončić'\n",
       "16. 'Nikola Jokić'\n",
       "17. 'Lebron James'\n",
       "18. 'Zion Williamson'\n",
       "19. 'Shai Gilgeous-Alexander'\n",
       "20. 'Damian Lillard'\n",
       "21. 'Ja Morant'\n",
       "22. 'Paul George'\n",
       "23. 'Jaren Jackson Jr.'\n",
       "24. 'Lauri Markkanen'\n",
       "25. 'Domantas Sabonis'\n",
       "26. 'Anthony Edwards'\n",
       "27. 'De\\'Aaron Fox'\n",
       "\n",
       "\n"
      ],
      "text/plain": [
       " [1] \"Kyrie lrving\"            \"Donovan Mitchell\"       \n",
       " [3] \"Giannis Antetokounmpo\"   \"Kevin Durant\"           \n",
       " [5] \"Jayson Tatum\"            \"Jaylen Brown\"           \n",
       " [7] \"DeMar DeRozan\"           \"Tyrese Haliburton\"      \n",
       " [9] \"Jrue Holiday\"            \"Julius Randle\"          \n",
       "[11] \"Bam Adebayo\"             \"Joel Embiid\"            \n",
       "[13] \"Pascal Siakam\"           \"Stephen Curry\"          \n",
       "[15] \"Luka Dončić\"             \"Nikola Jokić\"           \n",
       "[17] \"Lebron James\"            \"Zion Williamson\"        \n",
       "[19] \"Shai Gilgeous-Alexander\" \"Damian Lillard\"         \n",
       "[21] \"Ja Morant\"               \"Paul George\"            \n",
       "[23] \"Jaren Jackson Jr.\"       \"Lauri Markkanen\"        \n",
       "[25] \"Domantas Sabonis\"        \"Anthony Edwards\"        \n",
       "[27] \"De'Aaron Fox\"           "
      ]
     },
     "metadata": {},
     "output_type": "display_data"
    },
    {
     "data": {
      "text/html": [
       "<style>\n",
       ".list-inline {list-style: none; margin:0; padding: 0}\n",
       ".list-inline>li {display: inline-block}\n",
       ".list-inline>li:not(:last-child)::after {content: \"\\00b7\"; padding: 0 .5ex}\n",
       "</style>\n",
       "<ol class=list-inline><li>'Stephen Curry'</li><li>'LeBron James'</li><li>'Giannis Antetokounmpo'</li><li>'DeMar DeRozan'</li><li>'Nikola Jokić'</li><li>'Luka Dončić'</li><li>'Darius Garland'</li><li>'Jarrett Allen'</li><li>'Fred VanVleet'</li><li>'Jimmy Butler'</li><li>'Chris Paul'</li><li>'Joel Embiid'</li><li>'Jayson Tatum'</li><li>'Trae Young'</li><li>'Ja Morant'</li><li>'Andrew Wiggins'</li><li>'Devin Booker'</li><li>'Dejounte Murray'</li><li>'LaMelo Ball'</li><li>'Khris Middleton'</li><li>'Karl-Anthony Towns'</li><li>'Rudy Gobert'</li><li>'Zach LaVine'</li></ol>\n"
      ],
      "text/latex": [
       "\\begin{enumerate*}\n",
       "\\item 'Stephen Curry'\n",
       "\\item 'LeBron James'\n",
       "\\item 'Giannis Antetokounmpo'\n",
       "\\item 'DeMar DeRozan'\n",
       "\\item 'Nikola Jokić'\n",
       "\\item 'Luka Dončić'\n",
       "\\item 'Darius Garland'\n",
       "\\item 'Jarrett Allen'\n",
       "\\item 'Fred VanVleet'\n",
       "\\item 'Jimmy Butler'\n",
       "\\item 'Chris Paul'\n",
       "\\item 'Joel Embiid'\n",
       "\\item 'Jayson Tatum'\n",
       "\\item 'Trae Young'\n",
       "\\item 'Ja Morant'\n",
       "\\item 'Andrew Wiggins'\n",
       "\\item 'Devin Booker'\n",
       "\\item 'Dejounte Murray'\n",
       "\\item 'LaMelo Ball'\n",
       "\\item 'Khris Middleton'\n",
       "\\item 'Karl-Anthony Towns'\n",
       "\\item 'Rudy Gobert'\n",
       "\\item 'Zach LaVine'\n",
       "\\end{enumerate*}\n"
      ],
      "text/markdown": [
       "1. 'Stephen Curry'\n",
       "2. 'LeBron James'\n",
       "3. 'Giannis Antetokounmpo'\n",
       "4. 'DeMar DeRozan'\n",
       "5. 'Nikola Jokić'\n",
       "6. 'Luka Dončić'\n",
       "7. 'Darius Garland'\n",
       "8. 'Jarrett Allen'\n",
       "9. 'Fred VanVleet'\n",
       "10. 'Jimmy Butler'\n",
       "11. 'Chris Paul'\n",
       "12. 'Joel Embiid'\n",
       "13. 'Jayson Tatum'\n",
       "14. 'Trae Young'\n",
       "15. 'Ja Morant'\n",
       "16. 'Andrew Wiggins'\n",
       "17. 'Devin Booker'\n",
       "18. 'Dejounte Murray'\n",
       "19. 'LaMelo Ball'\n",
       "20. 'Khris Middleton'\n",
       "21. 'Karl-Anthony Towns'\n",
       "22. 'Rudy Gobert'\n",
       "23. 'Zach LaVine'\n",
       "\n",
       "\n"
      ],
      "text/plain": [
       " [1] \"Stephen Curry\"         \"LeBron James\"          \"Giannis Antetokounmpo\"\n",
       " [4] \"DeMar DeRozan\"         \"Nikola Jokić\"          \"Luka Dončić\"          \n",
       " [7] \"Darius Garland\"        \"Jarrett Allen\"         \"Fred VanVleet\"        \n",
       "[10] \"Jimmy Butler\"          \"Chris Paul\"            \"Joel Embiid\"          \n",
       "[13] \"Jayson Tatum\"          \"Trae Young\"            \"Ja Morant\"            \n",
       "[16] \"Andrew Wiggins\"        \"Devin Booker\"          \"Dejounte Murray\"      \n",
       "[19] \"LaMelo Ball\"           \"Khris Middleton\"       \"Karl-Anthony Towns\"   \n",
       "[22] \"Rudy Gobert\"           \"Zach LaVine\"          "
      ]
     },
     "metadata": {},
     "output_type": "display_data"
    },
    {
     "name": "stdout",
     "output_type": "stream",
     "text": [
      "\u001b[90m# A tibble: 644 × 5\u001b[39m\n",
      "   Player                      GS `eFG%`   PTS All_Star\n",
      "   \u001b[3m\u001b[90m<chr>\u001b[39m\u001b[23m                    \u001b[3m\u001b[90m<dbl>\u001b[39m\u001b[23m  \u001b[3m\u001b[90m<dbl>\u001b[39m\u001b[23m \u001b[3m\u001b[90m<dbl>\u001b[39m\u001b[23m \u001b[3m\u001b[90m<chr>\u001b[39m\u001b[23m   \n",
      "\u001b[90m 1\u001b[39m Precious Achiuwa            11  0.512   408 No      \n",
      "\u001b[90m 2\u001b[39m Steven Adams                42  0.597   361 No      \n",
      "\u001b[90m 3\u001b[39m Bam Adebayo                 61  0.54   \u001b[4m1\u001b[24m295 No      \n",
      "\u001b[90m 4\u001b[39m Ochai Agbaji                 6  0.558   232 No      \n",
      "\u001b[90m 5\u001b[39m Santi Aldama                18  0.567   562 No      \n",
      "\u001b[90m 6\u001b[39m Nickeil Alexander-Walker     3  0.582   287 No      \n",
      "\u001b[90m 7\u001b[39m Nickeil Alexander-Walker     3  0.591   228 No      \n",
      "\u001b[90m 8\u001b[39m Nickeil Alexander-Walker     0  0.55     59 No      \n",
      "\u001b[90m 9\u001b[39m Grayson Allen               59  0.581   648 No      \n",
      "\u001b[90m10\u001b[39m Jarrett Allen               60  0.651   869 No      \n",
      "\u001b[90m# … with 634 more rows\u001b[39m\n",
      "\u001b[90m# A tibble: 813 × 5\u001b[39m\n",
      "   Player                      GS `eFG%`   PTS All_Star\n",
      "   \u001b[3m\u001b[90m<chr>\u001b[39m\u001b[23m                    \u001b[3m\u001b[90m<dbl>\u001b[39m\u001b[23m  \u001b[3m\u001b[90m<dbl>\u001b[39m\u001b[23m \u001b[3m\u001b[90m<dbl>\u001b[39m\u001b[23m \u001b[3m\u001b[90m<chr>\u001b[39m\u001b[23m   \n",
      "\u001b[90m 1\u001b[39m Precious Achiuwa            28  0.486   664 No      \n",
      "\u001b[90m 2\u001b[39m Steven Adams                75  0.547   528 No      \n",
      "\u001b[90m 3\u001b[39m Bam Adebayo                 56  0.557  \u001b[4m1\u001b[24m068 No      \n",
      "\u001b[90m 4\u001b[39m Santi Aldama                 0  0.424   132 No      \n",
      "\u001b[90m 5\u001b[39m LaMarcus Aldridge           12  0.566   607 No      \n",
      "\u001b[90m 6\u001b[39m Nickeil Alexander-Walker    21  0.449   692 No      \n",
      "\u001b[90m 7\u001b[39m Nickeil Alexander-Walker    19  0.45    639 No      \n",
      "\u001b[90m 8\u001b[39m Nickeil Alexander-Walker     2  0.438    53 No      \n",
      "\u001b[90m 9\u001b[39m Grayson Allen               61  0.588   733 No      \n",
      "\u001b[90m10\u001b[39m Jarrett Allen               56  0.678   904 No      \n",
      "\u001b[90m# … with 803 more rows\u001b[39m\n"
     ]
    }
   ],
   "source": [
    "# Create a vector for basketball player that is all-star in 2023\n",
    "all_stars_2023 <- c(\"Kyrie lrving\", \"Donovan Mitchell\", \"Giannis Antetokounmpo\", \"Kevin Durant\", \"Jayson Tatum\", \"Jaylen Brown\", \n",
    "                  \"DeMar DeRozan\", \"Tyrese Haliburton\", \"Jrue Holiday\", \"Julius Randle\", \"Bam Adebayo\", \"Joel Embiid\", \"Pascal Siakam\", \n",
    "                  \"Stephen Curry\", \"Luka Dončić\", \"Nikola Jokić\", \"Lebron James\", \"Zion Williamson\", \"Shai Gilgeous-Alexander\", \"Damian Lillard\", \n",
    "                  \"Ja Morant\", \"Paul George\", \"Jaren Jackson Jr.\", \"Lauri Markkanen\", \"Domantas Sabonis\",\"Anthony Edwards\", \"De'Aaron Fox\")\n",
    "all_stars_2023\n",
    "\n",
    "# Create a vector for basketball player that is all-star in 2022\n",
    "all_stars_2022 <- c(\"Stephen Curry\", \"LeBron James\", \"Giannis Antetokounmpo\", \"DeMar DeRozan\", \"Nikola Jokić\", \"Luka Dončić\", \n",
    "                    \"Darius Garland\", \"Jarrett Allen\", \"Fred VanVleet\", \"Jimmy Butler\", \"Chris Paul\", \"Joel Embiid\", \"Jayson Tatum\", \n",
    "                    \"Trae Young\", \"Ja Morant\", \"Andrew Wiggins\", \"Devin Booker\", \"Dejounte Murray\", \"LaMelo Ball\", \"Khris Middleton\", \n",
    "                    \"Karl-Anthony Towns\", \"Rudy Gobert\", \"Zach LaVine\")         \n",
    "all_stars_2022\n",
    "\n",
    "# Mutate a new column to determine the player is all-star or not.\n",
    "basket_2023_mutate <- selected_2023 |>\n",
    "    mutate(All_Star = \"No\")\n",
    "\n",
    "basket_2022_mutate <- selected_2022 |>\n",
    "    mutate(All_Star = \"No\")\n",
    "\n",
    "print(basket_2023_mutate, n = 10)\n",
    "print(basket_2022_mutate, n = 10)"
   ]
  },
  {
   "cell_type": "code",
   "execution_count": 6,
   "id": "5eda4310-5251-48e9-9eb3-6e2634c5069b",
   "metadata": {},
   "outputs": [
    {
     "name": "stdout",
     "output_type": "stream",
     "text": [
      "\u001b[90m# A tibble: 644 × 5\u001b[39m\n",
      "   Player                      GS `eFG%`   PTS All_Star\n",
      "   \u001b[3m\u001b[90m<chr>\u001b[39m\u001b[23m                    \u001b[3m\u001b[90m<dbl>\u001b[39m\u001b[23m  \u001b[3m\u001b[90m<dbl>\u001b[39m\u001b[23m \u001b[3m\u001b[90m<dbl>\u001b[39m\u001b[23m \u001b[3m\u001b[90m<chr>\u001b[39m\u001b[23m   \n",
      "\u001b[90m 1\u001b[39m Precious Achiuwa            11  0.512   408 No      \n",
      "\u001b[90m 2\u001b[39m Steven Adams                42  0.597   361 No      \n",
      "\u001b[90m 3\u001b[39m Bam Adebayo                 61  0.54   \u001b[4m1\u001b[24m295 Yes     \n",
      "\u001b[90m 4\u001b[39m Ochai Agbaji                 6  0.558   232 No      \n",
      "\u001b[90m 5\u001b[39m Santi Aldama                18  0.567   562 No      \n",
      "\u001b[90m 6\u001b[39m Nickeil Alexander-Walker     3  0.582   287 No      \n",
      "\u001b[90m 7\u001b[39m Nickeil Alexander-Walker     3  0.591   228 No      \n",
      "\u001b[90m 8\u001b[39m Nickeil Alexander-Walker     0  0.55     59 No      \n",
      "\u001b[90m 9\u001b[39m Grayson Allen               59  0.581   648 No      \n",
      "\u001b[90m10\u001b[39m Jarrett Allen               60  0.651   869 No      \n",
      "\u001b[90m# … with 634 more rows\u001b[39m\n"
     ]
    }
   ],
   "source": [
    "# Change the value of the all-stars column for all-star players in 2023 to true\n",
    "basketball_player_2023_mutate$All_Star[basketball_player_2023_mutate$Player == \"Kyrie lrving\"] = \"Yes\"\n",
    "basketball_player_2023_mutate$All_Star[basketball_player_2023_mutate$Player == \"Donovan Mitchell\"] = \"Yes\"\n",
    "basketball_player_2023_mutate$All_Star[basketball_player_2023_mutate$Player == \"Giannis Antetokounmpo\"] = \"Yes\"\n",
    "basketball_player_2023_mutate$All_Star[basketball_player_2023_mutate$Player == \"Kevin Duran\"] = \"Yes\"\n",
    "basketball_player_2023_mutate$All_Star[basketball_player_2023_mutate$Player == \"Jayson Tatum\"] = \"Yes\"\n",
    "basketball_player_2023_mutate$All_Star[basketball_player_2023_mutate$Player == \"Jaylen Brown\"] = \"Yes\"\n",
    "basketball_player_2023_mutate$All_Star[basketball_player_2023_mutate$Player == \"DeMar DeRozan\"] = \"Yes\"\n",
    "basketball_player_2023_mutate$All_Star[basketball_player_2023_mutate$Player == \"Tyrese Haliburton\"] = \"Yes\"\n",
    "basketball_player_2023_mutate$All_Star[basketball_player_2023_mutate$Player == \"Jrue Holiday\"] = \"Yes\"\n",
    "basketball_player_2023_mutate$All_Star[basketball_player_2023_mutate$Player == \"Julius Randle\"] = \"Yes\"\n",
    "basketball_player_2023_mutate$All_Star[basketball_player_2023_mutate$Player == \"Bam Adebayo\"] = \"Yes\"\n",
    "basketball_player_2023_mutate$All_Star[basketball_player_2023_mutate$Player == \"Joel Embiid\"] = \"Yes\"\n",
    "basketball_player_2023_mutate$All_Star[basketball_player_2023_mutate$Player == \"Pascal Siakam\"] = \"Yes\"\n",
    "basketball_player_2023_mutate$All_Star[basketball_player_2023_mutate$Player == \"Stephen Curry\"] = \"Yes\"\n",
    "basketball_player_2023_mutate$All_Star[basketball_player_2023_mutate$Player == \"Luka Dončić\"] = \"Yes\"\n",
    "basketball_player_2023_mutate$All_Star[basketball_player_2023_mutate$Player == \"Nikola Jokić\"] = \"Yes\"\n",
    "basketball_player_2023_mutate$All_Star[basketball_player_2023_mutate$Player == \"Lebron James\"] = \"Yes\"\n",
    "basketball_player_2023_mutate$All_Star[basketball_player_2023_mutate$Player == \"Zion Williamson\"] = \"Yes\"\n",
    "basketball_player_2023_mutate$All_Star[basketball_player_2023_mutate$Player == \"Shai Gilgeous-Alexander\"] = \"Yes\"\n",
    "basketball_player_2023_mutate$All_Star[basketball_player_2023_mutate$Player == \"De'Aaron Fox\"] = \"Yes\"\n",
    "basketball_player_2023_mutate$All_Star[basketball_player_2023_mutate$Player == \"Anthony Edwards\"] = \"Yes\"\n",
    "basketball_player_2023_mutate$All_Star[basketball_player_2023_mutate$Player == \"Domantas Sabonis\"] = \"Yes\"\n",
    "basketball_player_2023_mutate$All_Star[basketball_player_2023_mutate$Player == \"Lauri Markkanen\"] = \"Yes\"\n",
    "basketball_player_2023_mutate$All_Star[basketball_player_2023_mutate$Player == \"Jaren Jackson Jr.\"] = \"Yes\"\n",
    "basketball_player_2023_mutate$All_Star[basketball_player_2023_mutate$Player == \"Paul George\"] = \"Yes\"\n",
    "basketball_player_2023_mutate$All_Star[basketball_player_2023_mutate$Player == \"Ja Morant\"] = \"Yes\"\n",
    "basketball_player_2023_mutate$All_Star[basketball_player_2023_mutate$Player == \"Damian Lillard\"] = \"Yes\"\n",
    "print(basketball_player_2023_mutate, n = 10)"
   ]
  },
  {
   "cell_type": "code",
   "execution_count": null,
   "id": "391e5386-f530-4064-86b8-840b93690327",
   "metadata": {},
   "outputs": [],
   "source": [
    "# Change the value of the all-stars column for all-star players in 2022 to true\n"
   ]
  },
  {
   "cell_type": "code",
   "execution_count": 8,
   "id": "94ee9e39-dc63-4815-8acc-103d02b953b7",
   "metadata": {},
   "outputs": [
    {
     "data": {
      "text/html": [
       "<table class=\"dataframe\">\n",
       "<caption>A tibble: 23 × 4</caption>\n",
       "<thead>\n",
       "\t<tr><th scope=col>Player</th><th scope=col>GS</th><th scope=col>eFG%</th><th scope=col>PTS</th></tr>\n",
       "\t<tr><th scope=col>&lt;chr&gt;</th><th scope=col>&lt;dbl&gt;</th><th scope=col>&lt;dbl&gt;</th><th scope=col>&lt;dbl&gt;</th></tr>\n",
       "</thead>\n",
       "<tbody>\n",
       "\t<tr><td>Jarrett Allen        </td><td>60</td><td>0.651</td><td> 869</td></tr>\n",
       "\t<tr><td>Giannis Antetokounmpo</td><td>52</td><td>0.559</td><td>1621</td></tr>\n",
       "\t<tr><td>LaMelo Ball          </td><td>36</td><td>0.510</td><td> 838</td></tr>\n",
       "\t<tr><td>⋮</td><td>⋮</td><td>⋮</td><td>⋮</td></tr>\n",
       "\t<tr><td>Fred VanVleet </td><td>54</td><td>0.485</td><td>1048</td></tr>\n",
       "\t<tr><td>Andrew Wiggins</td><td>37</td><td>0.557</td><td> 633</td></tr>\n",
       "\t<tr><td>Trae Young    </td><td>58</td><td>0.482</td><td>1545</td></tr>\n",
       "</tbody>\n",
       "</table>\n"
      ],
      "text/latex": [
       "A tibble: 23 × 4\n",
       "\\begin{tabular}{llll}\n",
       " Player & GS & eFG\\% & PTS\\\\\n",
       " <chr> & <dbl> & <dbl> & <dbl>\\\\\n",
       "\\hline\n",
       "\t Jarrett Allen         & 60 & 0.651 &  869\\\\\n",
       "\t Giannis Antetokounmpo & 52 & 0.559 & 1621\\\\\n",
       "\t LaMelo Ball           & 36 & 0.510 &  838\\\\\n",
       "\t ⋮ & ⋮ & ⋮ & ⋮\\\\\n",
       "\t Fred VanVleet  & 54 & 0.485 & 1048\\\\\n",
       "\t Andrew Wiggins & 37 & 0.557 &  633\\\\\n",
       "\t Trae Young     & 58 & 0.482 & 1545\\\\\n",
       "\\end{tabular}\n"
      ],
      "text/markdown": [
       "\n",
       "A tibble: 23 × 4\n",
       "\n",
       "| Player &lt;chr&gt; | GS &lt;dbl&gt; | eFG% &lt;dbl&gt; | PTS &lt;dbl&gt; |\n",
       "|---|---|---|---|\n",
       "| Jarrett Allen         | 60 | 0.651 |  869 |\n",
       "| Giannis Antetokounmpo | 52 | 0.559 | 1621 |\n",
       "| LaMelo Ball           | 36 | 0.510 |  838 |\n",
       "| ⋮ | ⋮ | ⋮ | ⋮ |\n",
       "| Fred VanVleet  | 54 | 0.485 | 1048 |\n",
       "| Andrew Wiggins | 37 | 0.557 |  633 |\n",
       "| Trae Young     | 58 | 0.482 | 1545 |\n",
       "\n"
      ],
      "text/plain": [
       "   Player                GS eFG%  PTS \n",
       "1  Jarrett Allen         60 0.651  869\n",
       "2  Giannis Antetokounmpo 52 0.559 1621\n",
       "3  LaMelo Ball           36 0.510  838\n",
       "⋮  ⋮                     ⋮  ⋮     ⋮   \n",
       "21 Fred VanVleet         54 0.485 1048\n",
       "22 Andrew Wiggins        37 0.557  633\n",
       "23 Trae Young            58 0.482 1545"
      ]
     },
     "metadata": {},
     "output_type": "display_data"
    }
   ],
   "source": [
    "# Select the ALL STAR player from the slected tables\n",
    "all_stars_2022 <- selected_vars |>\n",
    "                  filter(Player == \"Stephen Curry\"| \n",
    "                         Player == \"LeBron James\"|\n",
    "                         Player == \"Giannis Antetokounmpo\"|\n",
    "                         Player == \"DeMar DeRozan\"|\n",
    "                         Player == \"Nikola Jokić\"|\n",
    "                         Player == \"Luka Dončić\"|\n",
    "                         Player == \"Darius Garland\"|\n",
    "                         Player == \"Jarrett Allen\"|\n",
    "                         Player == \"Fred VanVleet\"|\n",
    "                         Player == \"Jimmy Butler\"|\n",
    "                         Player == \"Chris Paul\"|\n",
    "                         Player == \"Joel Embiid\"|\n",
    "                         Player == \"Jayson Tatum\"|\n",
    "                         Player == \"Trae Young\"|\n",
    "                         Player == \"Ja Morant\"|\n",
    "                         Player == \"Andrew Wiggins\"|\n",
    "                         Player == \"Devin Booker\"|\n",
    "                         Player == \"Dejounte Murray\"|\n",
    "                         Player == \"LaMelo Ball\"|\n",
    "                         Player == \"Khris Middleton\"|\n",
    "                         Player == \"Karl-Anthony Towns\"|\n",
    "                         Player == \"Rudy Gobert\"|\n",
    "                         Player == \"Zach LaVine\")\n",
    "\n",
    "\n",
    "                \n",
    "all_stars_2022"
   ]
  },
  {
   "cell_type": "code",
   "execution_count": 9,
   "id": "e2f3301f-f87d-44f3-aa36-532642487fc6",
   "metadata": {},
   "outputs": [
    {
     "data": {
      "text/plain": [
       "K-Nearest Neighbor Model Specification (classification)\n",
       "\n",
       "Main Arguments:\n",
       "  neighbors = 10\n",
       "  weight_func = rectangular\n",
       "\n",
       "Computational engine: kknn \n"
      ]
     },
     "metadata": {},
     "output_type": "display_data"
    },
    {
     "ename": "ERROR",
     "evalue": "Error in is_tibble(data): object 'basketball_player_2023_mutate' not found\n",
     "output_type": "error",
     "traceback": [
      "Error in is_tibble(data): object 'basketball_player_2023_mutate' not found\nTraceback:\n",
      "1. recipe(Player ~ PTS + GS, data = basketball_player_2023_mutate)",
      "2. recipe.formula(Player ~ PTS + GS, data = basketball_player_2023_mutate)",
      "3. form2args(formula, data, ...)",
      "4. is_tibble(data)"
     ]
    }
   ],
   "source": [
    "new_observation <- nearest_neighbor(weight_func = \"rectangular\", neighbors = 10) |>\n",
    "        set_engine(\"kknn\") |>\n",
    "       set_mode(\"classification\")\n",
    "\n",
    "new_observation\n",
    "\n",
    "new_observation_recipe <- recipe(Player ~ PTS + GS, data = basketball_player_2023_mutate)   # Determine if data is basketball_player_2023_mutate or all_stars_2022\n",
    "    # step_scale(all_predictors()) |>\n",
    "    # step_center(all_predictors())\n",
    "\n",
    "new_observation_recipe\n",
    "\n",
    "new_observation_fit <- workflow() |>\n",
    "    add_recipe(new_observation_recipe) |>\n",
    "    add_model(new_observation) |>\n",
    "    fit(data = basketball_player_2023_mutate)\n",
    "\n",
    "new_observation_fit"
   ]
  },
  {
   "cell_type": "code",
   "execution_count": 10,
   "id": "ed2f5a6c-06fa-4c52-87df-6f12a3711d58",
   "metadata": {},
   "outputs": [
    {
     "name": "stderr",
     "output_type": "stream",
     "text": [
      "Warning message:\n",
      "“Too little data to stratify.\n",
      "\u001b[36m•\u001b[39m Resampling will be unstratified.”\n"
     ]
    },
    {
     "data": {
      "text/html": [
       "<table class=\"dataframe\">\n",
       "<caption>A tibble: 6 × 4</caption>\n",
       "<thead>\n",
       "\t<tr><th scope=col>Player</th><th scope=col>GS</th><th scope=col>eFG%</th><th scope=col>PTS</th></tr>\n",
       "\t<tr><th scope=col>&lt;chr&gt;</th><th scope=col>&lt;dbl&gt;</th><th scope=col>&lt;dbl&gt;</th><th scope=col>&lt;dbl&gt;</th></tr>\n",
       "</thead>\n",
       "<tbody>\n",
       "\t<tr><td>Darius Garland    </td><td>57</td><td>0.552</td><td>1249</td></tr>\n",
       "\t<tr><td>Chris Paul        </td><td>44</td><td>0.496</td><td> 591</td></tr>\n",
       "\t<tr><td>Jayson Tatum      </td><td>61</td><td>0.537</td><td>1851</td></tr>\n",
       "\t<tr><td>Karl-Anthony Towns</td><td>21</td><td>0.568</td><td> 436</td></tr>\n",
       "\t<tr><td>Fred VanVleet     </td><td>54</td><td>0.485</td><td>1048</td></tr>\n",
       "\t<tr><td>Andrew Wiggins    </td><td>37</td><td>0.557</td><td> 633</td></tr>\n",
       "</tbody>\n",
       "</table>\n"
      ],
      "text/latex": [
       "A tibble: 6 × 4\n",
       "\\begin{tabular}{llll}\n",
       " Player & GS & eFG\\% & PTS\\\\\n",
       " <chr> & <dbl> & <dbl> & <dbl>\\\\\n",
       "\\hline\n",
       "\t Darius Garland     & 57 & 0.552 & 1249\\\\\n",
       "\t Chris Paul         & 44 & 0.496 &  591\\\\\n",
       "\t Jayson Tatum       & 61 & 0.537 & 1851\\\\\n",
       "\t Karl-Anthony Towns & 21 & 0.568 &  436\\\\\n",
       "\t Fred VanVleet      & 54 & 0.485 & 1048\\\\\n",
       "\t Andrew Wiggins     & 37 & 0.557 &  633\\\\\n",
       "\\end{tabular}\n"
      ],
      "text/markdown": [
       "\n",
       "A tibble: 6 × 4\n",
       "\n",
       "| Player &lt;chr&gt; | GS &lt;dbl&gt; | eFG% &lt;dbl&gt; | PTS &lt;dbl&gt; |\n",
       "|---|---|---|---|\n",
       "| Darius Garland     | 57 | 0.552 | 1249 |\n",
       "| Chris Paul         | 44 | 0.496 |  591 |\n",
       "| Jayson Tatum       | 61 | 0.537 | 1851 |\n",
       "| Karl-Anthony Towns | 21 | 0.568 |  436 |\n",
       "| Fred VanVleet      | 54 | 0.485 | 1048 |\n",
       "| Andrew Wiggins     | 37 | 0.557 |  633 |\n",
       "\n"
      ],
      "text/plain": [
       "  Player             GS eFG%  PTS \n",
       "1 Darius Garland     57 0.552 1249\n",
       "2 Chris Paul         44 0.496  591\n",
       "3 Jayson Tatum       61 0.537 1851\n",
       "4 Karl-Anthony Towns 21 0.568  436\n",
       "5 Fred VanVleet      54 0.485 1048\n",
       "6 Andrew Wiggins     37 0.557  633"
      ]
     },
     "metadata": {},
     "output_type": "display_data"
    }
   ],
   "source": [
    "new_observation_split <- initial_split(all_stars_2022, prop = 0.75, strata = Player) \n",
    "new_obs_training <- training(new_observation_split)\n",
    "new_obs_testing <- testing(new_observation_split)\n",
    "new_obs_testing"
   ]
  },
  {
   "cell_type": "code",
   "execution_count": 11,
   "id": "e53a0cff-79dc-43c4-84db-1772ff38c06e",
   "metadata": {},
   "outputs": [
    {
     "data": {
      "image/png": "[encoded data removed]",
      "text/plain": [
       "plot without title"
      ]
     },
     "metadata": {
      "image/png": {
       "height": 900,
       "width": 900
      }
     },
     "output_type": "display_data"
    }
   ],
   "source": [
    "options(repr.plot.width = 15, repr.plot.height = 15) \n",
    "\n",
    "position_plot <- all_stars_2022 |>\n",
    "    ggplot(aes(x = PTS, y = `eFG%`, color = Player)) +\n",
    "    geom_point() +\n",
    "    labs(x = \"Points\", y = \"eFG%\", color = \"Position\", title = \"Points vs Position\") +\n",
    "    theme(text = element_text(size = 20))\n",
    "\n",
    "position_plot"
   ]
  },
  {
   "cell_type": "code",
   "execution_count": 12,
   "id": "57f9bf84-cf33-4298-8b1d-c2eeb6a91ee7",
   "metadata": {},
   "outputs": [
    {
     "ename": "ERROR",
     "evalue": "\u001b[1m\u001b[33mError\u001b[39m in \u001b[1m\u001b[1m`ggplot()`:\u001b[22m\n\u001b[33m!\u001b[39m   You're passing a function as global data.\n  Have you misspelled the `data` argument in `ggplot()`\n",
     "output_type": "error",
     "traceback": [
      "\u001b[1m\u001b[33mError\u001b[39m in \u001b[1m\u001b[1m`ggplot()`:\u001b[22m\n\u001b[33m!\u001b[39m   You're passing a function as global data.\n  Have you misspelled the `data` argument in `ggplot()`\nTraceback:\n",
      "1. ggplot(page, aes(x = PTS, y = GS))",
      "2. ggplot.function(page, aes(x = PTS, y = GS))",
      "3. abort(glue(\"\\n    You're passing a function as global data.\\n    Have you misspelled the `data` argument in `ggplot()`\\n  \"))",
      "4. signal_abort(cnd, .file)"
     ]
    }
   ],
   "source": [
    "options(repr.plot.width = 15, repr.plot.height = 15) \n",
    "\n",
    "rk_plot <- page |>\n",
    "    ggplot(aes(x = PTS, y = GS)) +\n",
    "    geom_point(alpha = 0.8) +\n",
    "    labs(x = \"Points\", y = \"GS\", color = \"Position\", title = \"Age vs Pos\") +\n",
    "    theme(text = element_text(size = 20))\n",
    "\n",
    "rk_plot"
   ]
  },
  {
   "cell_type": "markdown",
   "id": "eb59d1b6-88dd-4ca1-b3ec-227bafde692f",
   "metadata": {},
   "source": []
  },
  {
   "cell_type": "markdown",
   "id": "86d513d9-a2d5-4052-91a8-7e751b6f15c0",
   "metadata": {},
   "source": [
    "Rk, PTS, GS, FG%\n",
    "<font color = \"blue\"> Our research will be predicting whether an NBA player will make it to the All-Star Team based on their performance statisitics in the 2023 season. Based Based on 2021-2022 years dataset, mutate a new column all star(binary, yes or no), select three variables, make the predictive model, split to train-test dataset, verify accuracy, retest on 2023 data\n",
    "</font>"
   ]
  },
  {
   "cell_type": "code",
   "execution_count": 13,
   "id": "75ab30bd-1f06-4fea-9f2e-e2a170804169",
   "metadata": {},
   "outputs": [],
   "source": [
    "# new_observation <- nearest_neighbor(weight_func = \"rectangular\", neighbors = 10) |>\n",
    "#         set_engine(\"kknn\") |>\n",
    "#        set_mode(\"classification\")\n",
    "\n",
    "# new_observation\n",
    "\n",
    "# new_observation_recipe <- recipe(Pos ~ Rk + GS, data = basketball_player_2023) |>\n",
    "#     step_scale(all_predictors()) |>\n",
    "#     step_center(all_predictors())\n",
    "\n",
    "# new_observation_recipe\n",
    "\n",
    "# new_observation_fit <- workflow() |>\n",
    "#     add_recipe(new_observation_recipe) |>\n",
    "#     add_model(new_observation) |>\n",
    "#     fit(data = basketball_player_2023)\n",
    "\n",
    "# new_observation_fit"
   ]
  },
  {
   "cell_type": "markdown",
   "id": "1c19282d-92b4-426b-8bf5-e2c96c9e18df",
   "metadata": {},
   "source": []
  },
  {
   "cell_type": "markdown",
   "id": "2dd22008-1f34-41dc-84d1-23af4ebbcd34",
   "metadata": {},
   "source": [
    "Our research question is to ..."
   ]
  },
  {
   "cell_type": "markdown",
   "id": "afe8bc86-8bb4-4431-931f-7783382717f2",
   "metadata": {},
   "source": []
  },
  {
   "cell_type": "markdown",
   "id": "e846a557-25b8-4c32-a7a8-2bb4fa21ed65",
   "metadata": {},
   "source": [
    "The scatterplot as shown above shows the relationship between sepal length and petal length which is distinguished through its species Iris."
   ]
  },
  {
   "cell_type": "markdown",
   "id": "c14da89b-0210-4f2b-be01-b3316f4c4008",
   "metadata": {},
   "source": []
  },
  {
   "cell_type": "markdown",
   "id": "01faff6e-bee5-4e45-a58e-40f64552aa00",
   "metadata": {},
   "source": []
  }
 ],
 "metadata": {
  "kernelspec": {
   "display_name": "R",
   "language": "R",
   "name": "ir"
  },
  "language_info": {
   "codemirror_mode": "r",
   "file_extension": ".r",
   "mimetype": "text/x-r-source",
   "name": "R",
   "pygments_lexer": "r",
   "version": "4.1.3"
  }
 },
 "nbformat": 4,
 "nbformat_minor": 5
}
